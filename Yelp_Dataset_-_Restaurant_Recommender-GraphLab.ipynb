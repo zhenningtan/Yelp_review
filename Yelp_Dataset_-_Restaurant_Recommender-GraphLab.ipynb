{
 "cells": [
  {
   "cell_type": "markdown",
   "metadata": {},
   "source": [
    "# Yelp Data Challenge - Restaurant Recommender\n",
    "\n",
    "BitTiger DS501\n",
    "\n",
    "Zhenning Tan, Jun 2017"
   ]
  },
  {
   "cell_type": "code",
   "execution_count": 1,
   "metadata": {
    "collapsed": false
   },
   "outputs": [],
   "source": [
    "import pandas as pd\n",
    "import numpy as np\n",
    "import matplotlib.pyplot as plt\n",
    "\n",
    "% matplotlib inline\n",
    "plt.style.use(\"ggplot\")"
   ]
  },
  {
   "cell_type": "code",
   "execution_count": 2,
   "metadata": {
    "collapsed": false
   },
   "outputs": [],
   "source": [
    "df = pd.read_csv('yelp_dataset_challenge_round9/last_2_years_restaurant_reviews.csv')"
   ]
  },
  {
   "cell_type": "code",
   "execution_count": 4,
   "metadata": {
    "collapsed": false
   },
   "outputs": [
    {
     "data": {
      "text/plain": [
       "(111548, 13)"
      ]
     },
     "execution_count": 4,
     "metadata": {},
     "output_type": "execute_result"
    }
   ],
   "source": [
    "df.shape"
   ]
  },
  {
   "cell_type": "code",
   "execution_count": 5,
   "metadata": {
    "collapsed": false
   },
   "outputs": [
    {
     "data": {
      "text/html": [
       "<div>\n",
       "<table border=\"1\" class=\"dataframe\">\n",
       "  <thead>\n",
       "    <tr style=\"text-align: right;\">\n",
       "      <th></th>\n",
       "      <th>business_id</th>\n",
       "      <th>name</th>\n",
       "      <th>categories</th>\n",
       "      <th>ave_stars</th>\n",
       "      <th>cool</th>\n",
       "      <th>date</th>\n",
       "      <th>funny</th>\n",
       "      <th>review_id</th>\n",
       "      <th>stars</th>\n",
       "      <th>text</th>\n",
       "      <th>type</th>\n",
       "      <th>useful</th>\n",
       "      <th>user_id</th>\n",
       "    </tr>\n",
       "  </thead>\n",
       "  <tbody>\n",
       "    <tr>\n",
       "      <th>0</th>\n",
       "      <td>--9e1ONYQuAa-CB_Rrw7Tw</td>\n",
       "      <td>Delmonico Steakhouse</td>\n",
       "      <td>[Steakhouses, Restaurants, Cajun/Creole]</td>\n",
       "      <td>4.0</td>\n",
       "      <td>0</td>\n",
       "      <td>2016-07-28</td>\n",
       "      <td>0</td>\n",
       "      <td>iHP55csZHjPGqOMwIo70qQ</td>\n",
       "      <td>5</td>\n",
       "      <td>Exceptional...exceptional steakhouse!! Ordered...</td>\n",
       "      <td>review</td>\n",
       "      <td>0</td>\n",
       "      <td>TU5j2S_Ub__ojLOpD_UepQ</td>\n",
       "    </tr>\n",
       "    <tr>\n",
       "      <th>1</th>\n",
       "      <td>--9e1ONYQuAa-CB_Rrw7Tw</td>\n",
       "      <td>Delmonico Steakhouse</td>\n",
       "      <td>[Steakhouses, Restaurants, Cajun/Creole]</td>\n",
       "      <td>4.0</td>\n",
       "      <td>0</td>\n",
       "      <td>2016-07-17</td>\n",
       "      <td>0</td>\n",
       "      <td>GWI2xpBBwxK9-w1etLz51A</td>\n",
       "      <td>5</td>\n",
       "      <td>In a city with overrated 'celebrity' steakhous...</td>\n",
       "      <td>review</td>\n",
       "      <td>0</td>\n",
       "      <td>OC_WdUmY2fK-c1SD4JqSsw</td>\n",
       "    </tr>\n",
       "  </tbody>\n",
       "</table>\n",
       "</div>"
      ],
      "text/plain": [
       "              business_id                  name  \\\n",
       "0  --9e1ONYQuAa-CB_Rrw7Tw  Delmonico Steakhouse   \n",
       "1  --9e1ONYQuAa-CB_Rrw7Tw  Delmonico Steakhouse   \n",
       "\n",
       "                                 categories  ave_stars  cool        date  \\\n",
       "0  [Steakhouses, Restaurants, Cajun/Creole]        4.0     0  2016-07-28   \n",
       "1  [Steakhouses, Restaurants, Cajun/Creole]        4.0     0  2016-07-17   \n",
       "\n",
       "   funny               review_id  stars  \\\n",
       "0      0  iHP55csZHjPGqOMwIo70qQ      5   \n",
       "1      0  GWI2xpBBwxK9-w1etLz51A      5   \n",
       "\n",
       "                                                text    type  useful  \\\n",
       "0  Exceptional...exceptional steakhouse!! Ordered...  review       0   \n",
       "1  In a city with overrated 'celebrity' steakhous...  review       0   \n",
       "\n",
       "                  user_id  \n",
       "0  TU5j2S_Ub__ojLOpD_UepQ  \n",
       "1  OC_WdUmY2fK-c1SD4JqSsw  "
      ]
     },
     "execution_count": 5,
     "metadata": {},
     "output_type": "execute_result"
    }
   ],
   "source": [
    "df.head(2)"
   ]
  },
  {
   "cell_type": "markdown",
   "metadata": {},
   "source": [
    "## 1. Clean data and get rating data "
   ]
  },
  {
   "cell_type": "markdown",
   "metadata": {},
   "source": [
    "#### Select relevant columns in the original dataframe"
   ]
  },
  {
   "cell_type": "code",
   "execution_count": 6,
   "metadata": {
    "collapsed": false
   },
   "outputs": [
    {
     "data": {
      "text/html": [
       "<div>\n",
       "<table border=\"1\" class=\"dataframe\">\n",
       "  <thead>\n",
       "    <tr style=\"text-align: right;\">\n",
       "      <th></th>\n",
       "      <th>business_id</th>\n",
       "      <th>user_id</th>\n",
       "      <th>stars</th>\n",
       "    </tr>\n",
       "  </thead>\n",
       "  <tbody>\n",
       "    <tr>\n",
       "      <th>0</th>\n",
       "      <td>--9e1ONYQuAa-CB_Rrw7Tw</td>\n",
       "      <td>TU5j2S_Ub__ojLOpD_UepQ</td>\n",
       "      <td>5</td>\n",
       "    </tr>\n",
       "    <tr>\n",
       "      <th>1</th>\n",
       "      <td>--9e1ONYQuAa-CB_Rrw7Tw</td>\n",
       "      <td>OC_WdUmY2fK-c1SD4JqSsw</td>\n",
       "      <td>5</td>\n",
       "    </tr>\n",
       "  </tbody>\n",
       "</table>\n",
       "</div>"
      ],
      "text/plain": [
       "              business_id                 user_id  stars\n",
       "0  --9e1ONYQuAa-CB_Rrw7Tw  TU5j2S_Ub__ojLOpD_UepQ      5\n",
       "1  --9e1ONYQuAa-CB_Rrw7Tw  OC_WdUmY2fK-c1SD4JqSsw      5"
      ]
     },
     "execution_count": 6,
     "metadata": {},
     "output_type": "execute_result"
    }
   ],
   "source": [
    "# Get business_id, user_id, stars for recommender\n",
    "col_select = [\"business_id\", \"user_id\", \"stars\"]\n",
    "df_select = df[col_select]\n",
    "df_select.head(2)"
   ]
  },
  {
   "cell_type": "markdown",
   "metadata": {},
   "source": [
    "#### There are many users that haven't given many reviews, exclude these users from the item-item similarity recommender\n",
    "\n",
    "**Q**: How do we recommend to these users anyways?"
   ]
  },
  {
   "cell_type": "code",
   "execution_count": 7,
   "metadata": {
    "collapsed": false
   },
   "outputs": [
    {
     "data": {
      "text/plain": [
       "(64047L,)"
      ]
     },
     "execution_count": 7,
     "metadata": {},
     "output_type": "execute_result"
    }
   ],
   "source": [
    "# To be implemented\n",
    "# review count for each user\n",
    "n_review_per_user = df_select[\"user_id\"].value_counts()\n",
    "n_review_per_user.shape #total number of users in this df"
   ]
  },
  {
   "cell_type": "code",
   "execution_count": 8,
   "metadata": {
    "collapsed": false
   },
   "outputs": [
    {
     "data": {
      "text/plain": [
       "0.70936968164004555"
      ]
     },
     "execution_count": 8,
     "metadata": {},
     "output_type": "execute_result"
    }
   ],
   "source": [
    "# set minimum review number for user\n",
    "min_review = 1\n",
    "\n",
    "# percentage of user with minimum review\n",
    "1.0*(n_review_per_user <= min_review).sum()/n_review_per_user.shape[0] "
   ]
  },
  {
   "cell_type": "code",
   "execution_count": 9,
   "metadata": {
    "collapsed": false
   },
   "outputs": [],
   "source": [
    "# keep users with review number above minimum review\n",
    "user_filter = (n_review_per_user > min_review).astype(int).nonzero()[0]\n",
    "user_filter = list(n_review_per_user.index[user_filter])\n",
    "user_to_keep = df_select[\"user_id\"].apply(lambda x: x in user_filter)"
   ]
  },
  {
   "cell_type": "code",
   "execution_count": 10,
   "metadata": {
    "collapsed": false
   },
   "outputs": [
    {
     "data": {
      "text/plain": [
       "(66115, 3)"
      ]
     },
     "execution_count": 10,
     "metadata": {},
     "output_type": "execute_result"
    }
   ],
   "source": [
    "df_select_min_review = df_select[user_to_keep]\n",
    "df_select_min_review.shape"
   ]
  },
  {
   "cell_type": "code",
   "execution_count": 11,
   "metadata": {
    "collapsed": false
   },
   "outputs": [
    {
     "name": "stdout",
     "output_type": "stream",
     "text": [
      "<class 'pandas.core.frame.DataFrame'>\n",
      "Int64Index: 66115 entries, 0 to 111546\n",
      "Data columns (total 3 columns):\n",
      "business_id    66115 non-null object\n",
      "user_id        66115 non-null object\n",
      "stars          66115 non-null int64\n",
      "dtypes: int64(1), object(2)\n",
      "memory usage: 2.0+ MB\n"
     ]
    }
   ],
   "source": [
    "df_select_min_review.info()"
   ]
  },
  {
   "cell_type": "code",
   "execution_count": 12,
   "metadata": {
    "collapsed": false
   },
   "outputs": [
    {
     "data": {
      "text/html": [
       "<div>\n",
       "<table border=\"1\" class=\"dataframe\">\n",
       "  <thead>\n",
       "    <tr style=\"text-align: right;\">\n",
       "      <th></th>\n",
       "      <th>business_id</th>\n",
       "      <th>user_id</th>\n",
       "      <th>stars</th>\n",
       "    </tr>\n",
       "  </thead>\n",
       "  <tbody>\n",
       "    <tr>\n",
       "      <th>0</th>\n",
       "      <td>--9e1ONYQuAa-CB_Rrw7Tw</td>\n",
       "      <td>TU5j2S_Ub__ojLOpD_UepQ</td>\n",
       "      <td>5</td>\n",
       "    </tr>\n",
       "    <tr>\n",
       "      <th>2</th>\n",
       "      <td>--9e1ONYQuAa-CB_Rrw7Tw</td>\n",
       "      <td>A6zYXofgFj6UhonFPrEDHw</td>\n",
       "      <td>3</td>\n",
       "    </tr>\n",
       "  </tbody>\n",
       "</table>\n",
       "</div>"
      ],
      "text/plain": [
       "              business_id                 user_id  stars\n",
       "0  --9e1ONYQuAa-CB_Rrw7Tw  TU5j2S_Ub__ojLOpD_UepQ      5\n",
       "2  --9e1ONYQuAa-CB_Rrw7Tw  A6zYXofgFj6UhonFPrEDHw      3"
      ]
     },
     "execution_count": 12,
     "metadata": {},
     "output_type": "execute_result"
    }
   ],
   "source": [
    "df_select_min_review.head(2)"
   ]
  },
  {
   "cell_type": "markdown",
   "metadata": {},
   "source": [
    "#### Create utility matrix from records"
   ]
  },
  {
   "cell_type": "code",
   "execution_count": 13,
   "metadata": {
    "collapsed": false
   },
   "outputs": [
    {
     "data": {
      "text/plain": [
       "<18614x3508 sparse matrix of type '<type 'numpy.float64'>'\n",
       "\twith 0 stored elements in LInked List format>"
      ]
     },
     "execution_count": 13,
     "metadata": {},
     "output_type": "execute_result"
    }
   ],
   "source": [
    "# To be implemented\n",
    "from scipy import sparse\n",
    "\n",
    "n_users = df_select_min_review[\"user_id\"].value_counts().shape[0]\n",
    "n_business = df_select_min_review[\"business_id\"].value_counts().shape[0]\n",
    "\n",
    "utility_mat = sparse.lil_matrix((n_users, n_business))\n",
    "utility_mat"
   ]
  },
  {
   "cell_type": "code",
   "execution_count": 14,
   "metadata": {
    "collapsed": false
   },
   "outputs": [],
   "source": [
    "business_id_dict = {}\n",
    "user_id_dict = {}\n",
    "\n",
    "business_ind = 0\n",
    "user_ind = 0\n",
    "\n",
    "for _, row in df_select_min_review.iterrows():\n",
    "   \n",
    "    if row[\"business_id\"] not in business_id_dict:\n",
    "        business_id_dict[row[\"business_id\"]] = business_ind\n",
    "        business_ind +=1\n",
    "    if row[\"user_id\"] not in user_id_dict:\n",
    "        user_id_dict[row[\"user_id\"]] = user_ind\n",
    "        user_ind +=1\n",
    "    \n",
    "    utility_mat[user_id_dict[row[\"user_id\"]], business_id_dict[row[\"business_id\"]]] = row[\"stars\"]\n"
   ]
  },
  {
   "cell_type": "code",
   "execution_count": 15,
   "metadata": {
    "collapsed": false
   },
   "outputs": [
    {
     "data": {
      "text/plain": [
       "<18614x3508 sparse matrix of type '<type 'numpy.float64'>'\n",
       "\twith 66115 stored elements in LInked List format>"
      ]
     },
     "execution_count": 15,
     "metadata": {},
     "output_type": "execute_result"
    }
   ],
   "source": [
    "utility_mat "
   ]
  },
  {
   "cell_type": "markdown",
   "metadata": {},
   "source": [
    "## 2. Item-Item similarity recommender"
   ]
  },
  {
   "cell_type": "markdown",
   "metadata": {},
   "source": [
    "### Let's reuse the ItemItemRecommender class derived from previous exercise\n",
    "\n",
    "Hint: we need to make modification to accommodate the dense numpy array"
   ]
  },
  {
   "cell_type": "code",
   "execution_count": 16,
   "metadata": {
    "collapsed": true
   },
   "outputs": [],
   "source": [
    "# To be implemented\n",
    "from sklearn.metrics.pairwise import cosine_similarity\n",
    "from time import time\n",
    "\n",
    "\n",
    "class ItemItemRecommender(object):\n",
    "\n",
    "    def __init__(self, neighborhood_size):\n",
    "        self.neighborhood_size = neighborhood_size\n",
    "\n",
    "    def fit(self, ratings_mat):\n",
    "        self.ratings_mat = ratings_mat\n",
    "        self.n_users = ratings_mat.shape[0]\n",
    "        self.n_items = ratings_mat.shape[1]\n",
    "        self.item_sim_mat = cosine_similarity(self.ratings_mat.T)\n",
    "        self._set_neighborhoods()\n",
    "\n",
    "    def _set_neighborhoods(self):\n",
    "        least_to_most_sim_indexes = np.argsort(self.item_sim_mat, 1)\n",
    "        self.neighborhoods = least_to_most_sim_indexes[:, -self.neighborhood_size:]\n",
    "\n",
    "    def pred_one_user(self, user_id, report_run_time=False):\n",
    "        start_time = time()\n",
    "        items_rated_by_this_user = self.ratings_mat[user_id].nonzero()[1] # 0 is row index, 1 is col index\n",
    "        # Just initializing so we have somewhere to put rating preds\n",
    "        out = np.zeros(self.n_items)\n",
    "        for item_to_rate in range(self.n_items):\n",
    "            relevant_items = np.intersect1d(self.neighborhoods[item_to_rate],\n",
    "                                            items_rated_by_this_user,\n",
    "                                            assume_unique=True)  # assume_unique speeds up intersection op\n",
    "            out[item_to_rate] = self.ratings_mat[user_id, relevant_items] * \\\n",
    "                self.item_sim_mat[item_to_rate, relevant_items] / \\\n",
    "                self.item_sim_mat[item_to_rate, relevant_items].sum()\n",
    "        if report_run_time:\n",
    "            print(\"Execution time: %f seconds\" % (time()-start_time))\n",
    "        cleaned_out = np.nan_to_num(out)\n",
    "        return cleaned_out\n",
    "\n",
    "    def pred_all_users(self, report_run_time=False):\n",
    "        start_time = time()\n",
    "        all_ratings = [\n",
    "            self.pred_one_user(user_id) for user_id in range(self.n_users)]\n",
    "        if report_run_time:\n",
    "            print(\"Execution time: %f seconds\" % (time()-start_time))\n",
    "        return np.array(all_ratings)\n",
    "\n",
    "    def top_n_recs(self, user_id, n):\n",
    "        pred_ratings = self.pred_one_user(user_id)\n",
    "        item_index_sorted_by_pred_rating = list(np.argsort(pred_ratings))\n",
    "        items_rated_by_this_user = self.ratings_mat[user_id].nonzero()[1]\n",
    "        unrated_items_by_pred_rating = [item for item in item_index_sorted_by_pred_rating\n",
    "                                        if item not in items_rated_by_this_user]\n",
    "        return unrated_items_by_pred_rating[-n:]"
   ]
  },
  {
   "cell_type": "code",
   "execution_count": 17,
   "metadata": {
    "collapsed": false
   },
   "outputs": [],
   "source": [
    "my_rec_engine = ItemItemRecommender(neighborhood_size=75)\n",
    "my_rec_engine.fit(utility_mat)\n",
    "\n",
    "# Show top 20 recommendations for user #1\n",
    "top_recom = my_rec_engine.top_n_recs(1, 20)"
   ]
  },
  {
   "cell_type": "code",
   "execution_count": 18,
   "metadata": {
    "collapsed": false
   },
   "outputs": [
    {
     "name": "stdout",
     "output_type": "stream",
     "text": [
      "[1555, 1836, 2331, 1437, 3199, 679, 1408, 1432, 1978, 2438, 1980, 1983, 1984, 1986, 1120, 2804, 1820, 1998, 517, 769]\n"
     ]
    }
   ],
   "source": [
    "print top_recom"
   ]
  },
  {
   "cell_type": "code",
   "execution_count": 32,
   "metadata": {
    "collapsed": false
   },
   "outputs": [
    {
     "name": "stdout",
     "output_type": "stream",
     "text": [
      "Top recommended business id:\n",
      "['RESDUcs7fIiihp38-d6_6g', 'VzUo-RURV3VnfNItAYM8yg', 'dupc1Q5bl1gwTheS1ZqEig', 'PAilv1TpsWMsLTZk5d3guw', 'u8-WDsLXAl0dXQW_wqWrDg', 'BZSzoBFhkXBUQTx4Cgl5Aw', 'OaM2Bjeo2Ftt84ruTrzPNQ', 'P6O50VeFlBIJpP0QPYsXbQ', 'YNDxeeRUARbd8GRnscJSvg', 'fvWMTH2uMQXIvWSFf5wi4A', 'YNUdy-W_ZFO9B2SZUKRrPw', 'YQ--LJ7pvjiDSqNv0TuKTQ', 'YRiQtFNteLUUEiGkdQ23vg', 'YSHLvvIOg5w7ON396yNmVA', 'JIG5xGUdWbaaPeo3MDonYg', 'mUdalYTuAtnZm2K9zoH27Q', 'Vg1C_1eqwIwkZLIXGMTW3g', 'YZGSNhgTS6YeyUYoivD-Ww', '8b5ll2kjXfjgFIqWsjkr8Q', 'DA-ddRqcReCe_DcXKicvsQ']\n"
     ]
    }
   ],
   "source": [
    "# get business id from index\n",
    "def get_business_id(index):\n",
    "    for key, value in business_id_dict.iteritems():\n",
    "        if value == index:\n",
    "            return key\n",
    "\n",
    "print \"Top recommended business id:\"\n",
    "recom_business = [get_business_id(ind) for ind in top_recom]\n",
    "print recom_business"
   ]
  },
  {
   "cell_type": "code",
   "execution_count": 24,
   "metadata": {
    "collapsed": false
   },
   "outputs": [
    {
     "name": "stdout",
     "output_type": "stream",
     "text": [
      "user id for user#1: A6zYXofgFj6UhonFPrEDHw\n"
     ]
    }
   ],
   "source": [
    "def get_user_id(index):\n",
    "    for key, value in user_id_dict.iteritems():\n",
    "        if value == index:\n",
    "            return key\n",
    "user_id_1 = get_user_id(1)\n",
    "print \"user id for user#1:\", user_id_1"
   ]
  },
  {
   "cell_type": "markdown",
   "metadata": {},
   "source": [
    "#### Compare recommended restaurants with user rated restaurant"
   ]
  },
  {
   "cell_type": "code",
   "execution_count": 21,
   "metadata": {
    "collapsed": true
   },
   "outputs": [],
   "source": [
    "business_df = pd.read_csv('yelp_dataset_challenge_round9/selected_business.csv')"
   ]
  },
  {
   "cell_type": "code",
   "execution_count": 43,
   "metadata": {
    "collapsed": false
   },
   "outputs": [
    {
     "data": {
      "text/html": [
       "<div>\n",
       "<table border=\"1\" class=\"dataframe\">\n",
       "  <thead>\n",
       "    <tr style=\"text-align: right;\">\n",
       "      <th></th>\n",
       "      <th>business_id</th>\n",
       "      <th>name</th>\n",
       "      <th>categories</th>\n",
       "      <th>ave_stars</th>\n",
       "    </tr>\n",
       "  </thead>\n",
       "  <tbody>\n",
       "    <tr>\n",
       "      <th>0</th>\n",
       "      <td>saWZO6hB4B8P-mIzS1--Xw</td>\n",
       "      <td>Kabob Palace</td>\n",
       "      <td>[Persian/Iranian, Restaurants, Ethnic Food, Fo...</td>\n",
       "      <td>2.5</td>\n",
       "    </tr>\n",
       "    <tr>\n",
       "      <th>1</th>\n",
       "      <td>hMh9XOwNQcu31NAOCqhAEw</td>\n",
       "      <td>Taste of India</td>\n",
       "      <td>[Restaurants, Vegetarian, Indian]</td>\n",
       "      <td>3.5</td>\n",
       "    </tr>\n",
       "  </tbody>\n",
       "</table>\n",
       "</div>"
      ],
      "text/plain": [
       "              business_id            name  \\\n",
       "0  saWZO6hB4B8P-mIzS1--Xw    Kabob Palace   \n",
       "1  hMh9XOwNQcu31NAOCqhAEw  Taste of India   \n",
       "\n",
       "                                          categories  ave_stars  \n",
       "0  [Persian/Iranian, Restaurants, Ethnic Food, Fo...        2.5  \n",
       "1                  [Restaurants, Vegetarian, Indian]        3.5  "
      ]
     },
     "execution_count": 43,
     "metadata": {},
     "output_type": "execute_result"
    }
   ],
   "source": [
    "business_df.head(2)"
   ]
  },
  {
   "cell_type": "code",
   "execution_count": 29,
   "metadata": {
    "collapsed": false
   },
   "outputs": [
    {
     "data": {
      "text/html": [
       "<div>\n",
       "<table border=\"1\" class=\"dataframe\">\n",
       "  <thead>\n",
       "    <tr style=\"text-align: right;\">\n",
       "      <th></th>\n",
       "      <th>name</th>\n",
       "      <th>categories</th>\n",
       "      <th>stars</th>\n",
       "    </tr>\n",
       "  </thead>\n",
       "  <tbody>\n",
       "    <tr>\n",
       "      <th>2</th>\n",
       "      <td>Delmonico Steakhouse</td>\n",
       "      <td>[Steakhouses, Restaurants, Cajun/Creole]</td>\n",
       "      <td>3</td>\n",
       "    </tr>\n",
       "    <tr>\n",
       "      <th>78523</th>\n",
       "      <td>Yardbird Southern Table &amp; Bar</td>\n",
       "      <td>[Restaurants, Southern, American (New)]</td>\n",
       "      <td>5</td>\n",
       "    </tr>\n",
       "    <tr>\n",
       "      <th>95251</th>\n",
       "      <td>StripSteak</td>\n",
       "      <td>[Steakhouses, American (New), Cheesesteaks, Re...</td>\n",
       "      <td>5</td>\n",
       "    </tr>\n",
       "    <tr>\n",
       "      <th>101202</th>\n",
       "      <td>Paris Baguette</td>\n",
       "      <td>[Coffee &amp; Tea, Bakeries, Cafes, Food, Restaura...</td>\n",
       "      <td>5</td>\n",
       "    </tr>\n",
       "  </tbody>\n",
       "</table>\n",
       "</div>"
      ],
      "text/plain": [
       "                                 name  \\\n",
       "2                Delmonico Steakhouse   \n",
       "78523   Yardbird Southern Table & Bar   \n",
       "95251                      StripSteak   \n",
       "101202                 Paris Baguette   \n",
       "\n",
       "                                               categories  stars  \n",
       "2                [Steakhouses, Restaurants, Cajun/Creole]      3  \n",
       "78523             [Restaurants, Southern, American (New)]      5  \n",
       "95251   [Steakhouses, American (New), Cheesesteaks, Re...      5  \n",
       "101202  [Coffee & Tea, Bakeries, Cafes, Food, Restaura...      5  "
      ]
     },
     "execution_count": 29,
     "metadata": {},
     "output_type": "execute_result"
    }
   ],
   "source": [
    "# user#1 rated restaurants\n",
    "review_user1 = df[df[\"user_id\"] == user_id_1][[\"name\", \"categories\", \"stars\"]]\n",
    "review_user1"
   ]
  },
  {
   "cell_type": "code",
   "execution_count": 42,
   "metadata": {
    "collapsed": false
   },
   "outputs": [
    {
     "data": {
      "text/html": [
       "<div>\n",
       "<table border=\"1\" class=\"dataframe\">\n",
       "  <thead>\n",
       "    <tr style=\"text-align: right;\">\n",
       "      <th></th>\n",
       "      <th>name</th>\n",
       "      <th>categories</th>\n",
       "    </tr>\n",
       "  </thead>\n",
       "  <tbody>\n",
       "    <tr>\n",
       "      <th>63</th>\n",
       "      <td>Boba Hut</td>\n",
       "      <td>[Restaurants, Chinese, Hawaiian, Food, Coffee ...</td>\n",
       "    </tr>\n",
       "    <tr>\n",
       "      <th>175</th>\n",
       "      <td>Bacchanal Buffet</td>\n",
       "      <td>[Buffets, Sandwiches, Food, Restaurants, Break...</td>\n",
       "    </tr>\n",
       "    <tr>\n",
       "      <th>349</th>\n",
       "      <td>L'Atelier de Joël Robuchon</td>\n",
       "      <td>[Restaurants, French]</td>\n",
       "    </tr>\n",
       "    <tr>\n",
       "      <th>824</th>\n",
       "      <td>Coco's Bakery Restaurant</td>\n",
       "      <td>[American (Traditional), Food, Restaurants, Ba...</td>\n",
       "    </tr>\n",
       "    <tr>\n",
       "      <th>1546</th>\n",
       "      <td>Panevino Italian Grille</td>\n",
       "      <td>[Bars, Restaurants, Food, Nightlife, Italian, ...</td>\n",
       "    </tr>\n",
       "    <tr>\n",
       "      <th>2450</th>\n",
       "      <td>Very Venice</td>\n",
       "      <td>[Restaurants]</td>\n",
       "    </tr>\n",
       "    <tr>\n",
       "      <th>2544</th>\n",
       "      <td>Superbook Deli</td>\n",
       "      <td>[Sandwiches, Restaurants, Delis, American (New)]</td>\n",
       "    </tr>\n",
       "    <tr>\n",
       "      <th>2761</th>\n",
       "      <td>Grimaldi's Pizzeria</td>\n",
       "      <td>[Pizza, Restaurants]</td>\n",
       "    </tr>\n",
       "    <tr>\n",
       "      <th>2872</th>\n",
       "      <td>Guy Savoy</td>\n",
       "      <td>[Restaurants, French]</td>\n",
       "    </tr>\n",
       "    <tr>\n",
       "      <th>2893</th>\n",
       "      <td>Seabreeze Cafe</td>\n",
       "      <td>[Restaurants, Breakfast &amp; Brunch, American (Tr...</td>\n",
       "    </tr>\n",
       "    <tr>\n",
       "      <th>3032</th>\n",
       "      <td>Broadway Burger Bar &amp; Grill</td>\n",
       "      <td>[Vegetarian, Restaurants, Salad, Burgers]</td>\n",
       "    </tr>\n",
       "    <tr>\n",
       "      <th>3544</th>\n",
       "      <td>Wings Restaurants</td>\n",
       "      <td>[Chicken Wings, Restaurants]</td>\n",
       "    </tr>\n",
       "    <tr>\n",
       "      <th>3996</th>\n",
       "      <td>Triple 7 Restaurant &amp; Microbrewery</td>\n",
       "      <td>[American (Traditional), Sushi Bars, Restauran...</td>\n",
       "    </tr>\n",
       "    <tr>\n",
       "      <th>4139</th>\n",
       "      <td>Arata Sushi &amp; Bowl</td>\n",
       "      <td>[Japanese, Restaurants, Sushi Bars]</td>\n",
       "    </tr>\n",
       "    <tr>\n",
       "      <th>4274</th>\n",
       "      <td>Crown &amp; Anchor British Pub</td>\n",
       "      <td>[Restaurants, Pubs, Sports Bars, British, Nigh...</td>\n",
       "    </tr>\n",
       "    <tr>\n",
       "      <th>4395</th>\n",
       "      <td>Burger King</td>\n",
       "      <td>[Restaurants, Burgers, Fast Food]</td>\n",
       "    </tr>\n",
       "    <tr>\n",
       "      <th>4501</th>\n",
       "      <td>All-American Bar &amp; Grille</td>\n",
       "      <td>[Restaurants, Sports Bars, American (Tradition...</td>\n",
       "    </tr>\n",
       "    <tr>\n",
       "      <th>4524</th>\n",
       "      <td>Del Taco</td>\n",
       "      <td>[Restaurants, Fast Food, Mexican]</td>\n",
       "    </tr>\n",
       "    <tr>\n",
       "      <th>4648</th>\n",
       "      <td>Carnitas y Tortas Ahogadas Guadalajara</td>\n",
       "      <td>[Restaurants, Mexican]</td>\n",
       "    </tr>\n",
       "    <tr>\n",
       "      <th>4933</th>\n",
       "      <td>Capriotti's Sandwich Shop</td>\n",
       "      <td>[Sandwiches, Delis, Restaurants]</td>\n",
       "    </tr>\n",
       "  </tbody>\n",
       "</table>\n",
       "</div>"
      ],
      "text/plain": [
       "                                        name  \\\n",
       "63                                  Boba Hut   \n",
       "175                         Bacchanal Buffet   \n",
       "349               L'Atelier de Joël Robuchon   \n",
       "824                 Coco's Bakery Restaurant   \n",
       "1546                 Panevino Italian Grille   \n",
       "2450                             Very Venice   \n",
       "2544                          Superbook Deli   \n",
       "2761                     Grimaldi's Pizzeria   \n",
       "2872                               Guy Savoy   \n",
       "2893                          Seabreeze Cafe   \n",
       "3032             Broadway Burger Bar & Grill   \n",
       "3544                       Wings Restaurants   \n",
       "3996      Triple 7 Restaurant & Microbrewery   \n",
       "4139                      Arata Sushi & Bowl   \n",
       "4274              Crown & Anchor British Pub   \n",
       "4395                             Burger King   \n",
       "4501               All-American Bar & Grille   \n",
       "4524                                Del Taco   \n",
       "4648  Carnitas y Tortas Ahogadas Guadalajara   \n",
       "4933               Capriotti's Sandwich Shop   \n",
       "\n",
       "                                             categories  \n",
       "63    [Restaurants, Chinese, Hawaiian, Food, Coffee ...  \n",
       "175   [Buffets, Sandwiches, Food, Restaurants, Break...  \n",
       "349                               [Restaurants, French]  \n",
       "824   [American (Traditional), Food, Restaurants, Ba...  \n",
       "1546  [Bars, Restaurants, Food, Nightlife, Italian, ...  \n",
       "2450                                      [Restaurants]  \n",
       "2544   [Sandwiches, Restaurants, Delis, American (New)]  \n",
       "2761                               [Pizza, Restaurants]  \n",
       "2872                              [Restaurants, French]  \n",
       "2893  [Restaurants, Breakfast & Brunch, American (Tr...  \n",
       "3032          [Vegetarian, Restaurants, Salad, Burgers]  \n",
       "3544                       [Chicken Wings, Restaurants]  \n",
       "3996  [American (Traditional), Sushi Bars, Restauran...  \n",
       "4139                [Japanese, Restaurants, Sushi Bars]  \n",
       "4274  [Restaurants, Pubs, Sports Bars, British, Nigh...  \n",
       "4395                  [Restaurants, Burgers, Fast Food]  \n",
       "4501  [Restaurants, Sports Bars, American (Tradition...  \n",
       "4524                  [Restaurants, Fast Food, Mexican]  \n",
       "4648                             [Restaurants, Mexican]  \n",
       "4933                   [Sandwiches, Delis, Restaurants]  "
      ]
     },
     "execution_count": 42,
     "metadata": {},
     "output_type": "execute_result"
    }
   ],
   "source": [
    "# recommended restaurants for user#1\n",
    "recom_filter = business_df[\"business_id\"].apply(lambda x: x in recom_business)\n",
    "business_df[recom_filter][[\"name\", \"categories\"]]"
   ]
  },
  {
   "cell_type": "markdown",
   "metadata": {},
   "source": [
    "Overall, the users rated 5 stars for Southern American food, Steakhouse and bakery branded by Paris bakery. The recommended restaurants contain a list of similar places to the rated restaurants, including American bar&grill, Italian and French restaurants. Additionally, it also recommends some fast food places, sandwich shop, Asian and Mexican food.  "
   ]
  },
  {
   "cell_type": "markdown",
   "metadata": {},
   "source": [
    "## 3. Matrix Factorization recommender\n",
    "\n",
    "Take a look at Graphlab Create examples"
   ]
  },
  {
   "cell_type": "code",
   "execution_count": 44,
   "metadata": {
    "collapsed": false
   },
   "outputs": [],
   "source": [
    "import graphlab "
   ]
  },
  {
   "cell_type": "code",
   "execution_count": 45,
   "metadata": {
    "collapsed": false
   },
   "outputs": [
    {
     "name": "stdout",
     "output_type": "stream",
     "text": [
      "This non-commercial license of GraphLab Create for academic use is assigned to tanz@indiana.edu and will expire on July 02, 2018.\n"
     ]
    },
    {
     "name": "stderr",
     "output_type": "stream",
     "text": [
      "[INFO] graphlab.cython.cy_server: GraphLab Create v2.1 started. Logging: C:\\Users\\Zhenning\\AppData\\Local\\Temp\\graphlab_server_1498943685.log.0\n"
     ]
    }
   ],
   "source": [
    "sf = graphlab.SFrame(df_select_min_review)"
   ]
  },
  {
   "cell_type": "code",
   "execution_count": 46,
   "metadata": {
    "collapsed": false
   },
   "outputs": [
    {
     "data": {
      "text/html": [
       "<pre>Recsys training: model = factorization_recommender</pre>"
      ],
      "text/plain": [
       "Recsys training: model = factorization_recommender"
      ]
     },
     "metadata": {},
     "output_type": "display_data"
    },
    {
     "data": {
      "text/html": [
       "<pre>Preparing data set.</pre>"
      ],
      "text/plain": [
       "Preparing data set."
      ]
     },
     "metadata": {},
     "output_type": "display_data"
    },
    {
     "data": {
      "text/html": [
       "<pre>    Data has 66115 observations with 18614 users and 3508 items.</pre>"
      ],
      "text/plain": [
       "    Data has 66115 observations with 18614 users and 3508 items."
      ]
     },
     "metadata": {},
     "output_type": "display_data"
    },
    {
     "data": {
      "text/html": [
       "<pre>    Data prepared in: 0.096006s</pre>"
      ],
      "text/plain": [
       "    Data prepared in: 0.096006s"
      ]
     },
     "metadata": {},
     "output_type": "display_data"
    },
    {
     "data": {
      "text/html": [
       "<pre>Training factorization_recommender for recommendations.</pre>"
      ],
      "text/plain": [
       "Training factorization_recommender for recommendations."
      ]
     },
     "metadata": {},
     "output_type": "display_data"
    },
    {
     "data": {
      "text/html": [
       "<pre>+--------------------------------+--------------------------------------------------+----------+</pre>"
      ],
      "text/plain": [
       "+--------------------------------+--------------------------------------------------+----------+"
      ]
     },
     "metadata": {},
     "output_type": "display_data"
    },
    {
     "data": {
      "text/html": [
       "<pre>| Parameter                      | Description                                      | Value    |</pre>"
      ],
      "text/plain": [
       "| Parameter                      | Description                                      | Value    |"
      ]
     },
     "metadata": {},
     "output_type": "display_data"
    },
    {
     "data": {
      "text/html": [
       "<pre>+--------------------------------+--------------------------------------------------+----------+</pre>"
      ],
      "text/plain": [
       "+--------------------------------+--------------------------------------------------+----------+"
      ]
     },
     "metadata": {},
     "output_type": "display_data"
    },
    {
     "data": {
      "text/html": [
       "<pre>| num_factors                    | Factor Dimension                                 | 10       |</pre>"
      ],
      "text/plain": [
       "| num_factors                    | Factor Dimension                                 | 10       |"
      ]
     },
     "metadata": {},
     "output_type": "display_data"
    },
    {
     "data": {
      "text/html": [
       "<pre>| regularization                 | L2 Regularization on Factors                     | 1e-008   |</pre>"
      ],
      "text/plain": [
       "| regularization                 | L2 Regularization on Factors                     | 1e-008   |"
      ]
     },
     "metadata": {},
     "output_type": "display_data"
    },
    {
     "data": {
      "text/html": [
       "<pre>| solver                         | Solver used for training                         | sgd      |</pre>"
      ],
      "text/plain": [
       "| solver                         | Solver used for training                         | sgd      |"
      ]
     },
     "metadata": {},
     "output_type": "display_data"
    },
    {
     "data": {
      "text/html": [
       "<pre>| linear_regularization          | L2 Regularization on Linear Coefficients         | 1e-010   |</pre>"
      ],
      "text/plain": [
       "| linear_regularization          | L2 Regularization on Linear Coefficients         | 1e-010   |"
      ]
     },
     "metadata": {},
     "output_type": "display_data"
    },
    {
     "data": {
      "text/html": [
       "<pre>| max_iterations                 | Maximum Number of Iterations                     | 50       |</pre>"
      ],
      "text/plain": [
       "| max_iterations                 | Maximum Number of Iterations                     | 50       |"
      ]
     },
     "metadata": {},
     "output_type": "display_data"
    },
    {
     "data": {
      "text/html": [
       "<pre>+--------------------------------+--------------------------------------------------+----------+</pre>"
      ],
      "text/plain": [
       "+--------------------------------+--------------------------------------------------+----------+"
      ]
     },
     "metadata": {},
     "output_type": "display_data"
    },
    {
     "data": {
      "text/html": [
       "<pre>  Optimizing model using SGD; tuning step size.</pre>"
      ],
      "text/plain": [
       "  Optimizing model using SGD; tuning step size."
      ]
     },
     "metadata": {},
     "output_type": "display_data"
    },
    {
     "data": {
      "text/html": [
       "<pre>  Using 10000 / 66115 points for tuning the step size.</pre>"
      ],
      "text/plain": [
       "  Using 10000 / 66115 points for tuning the step size."
      ]
     },
     "metadata": {},
     "output_type": "display_data"
    },
    {
     "data": {
      "text/html": [
       "<pre>+---------+-------------------+------------------------------------------+</pre>"
      ],
      "text/plain": [
       "+---------+-------------------+------------------------------------------+"
      ]
     },
     "metadata": {},
     "output_type": "display_data"
    },
    {
     "data": {
      "text/html": [
       "<pre>| Attempt | Initial Step Size | Estimated Objective Value                |</pre>"
      ],
      "text/plain": [
       "| Attempt | Initial Step Size | Estimated Objective Value                |"
      ]
     },
     "metadata": {},
     "output_type": "display_data"
    },
    {
     "data": {
      "text/html": [
       "<pre>+---------+-------------------+------------------------------------------+</pre>"
      ],
      "text/plain": [
       "+---------+-------------------+------------------------------------------+"
      ]
     },
     "metadata": {},
     "output_type": "display_data"
    },
    {
     "data": {
      "text/html": [
       "<pre>| 0       | 25                | Not Viable                               |</pre>"
      ],
      "text/plain": [
       "| 0       | 25                | Not Viable                               |"
      ]
     },
     "metadata": {},
     "output_type": "display_data"
    },
    {
     "data": {
      "text/html": [
       "<pre>| 1       | 6.25              | Not Viable                               |</pre>"
      ],
      "text/plain": [
       "| 1       | 6.25              | Not Viable                               |"
      ]
     },
     "metadata": {},
     "output_type": "display_data"
    },
    {
     "data": {
      "text/html": [
       "<pre>| 2       | 1.5625            | Not Viable                               |</pre>"
      ],
      "text/plain": [
       "| 2       | 1.5625            | Not Viable                               |"
      ]
     },
     "metadata": {},
     "output_type": "display_data"
    },
    {
     "data": {
      "text/html": [
       "<pre>| 3       | 0.390625          | 0.149502                                 |</pre>"
      ],
      "text/plain": [
       "| 3       | 0.390625          | 0.149502                                 |"
      ]
     },
     "metadata": {},
     "output_type": "display_data"
    },
    {
     "data": {
      "text/html": [
       "<pre>| 4       | 0.195312          | 0.217013                                 |</pre>"
      ],
      "text/plain": [
       "| 4       | 0.195312          | 0.217013                                 |"
      ]
     },
     "metadata": {},
     "output_type": "display_data"
    },
    {
     "data": {
      "text/html": [
       "<pre>| 5       | 0.0976562         | 0.426866                                 |</pre>"
      ],
      "text/plain": [
       "| 5       | 0.0976562         | 0.426866                                 |"
      ]
     },
     "metadata": {},
     "output_type": "display_data"
    },
    {
     "data": {
      "text/html": [
       "<pre>+---------+-------------------+------------------------------------------+</pre>"
      ],
      "text/plain": [
       "+---------+-------------------+------------------------------------------+"
      ]
     },
     "metadata": {},
     "output_type": "display_data"
    },
    {
     "data": {
      "text/html": [
       "<pre>| Final   | 0.390625          | 0.149502                                 |</pre>"
      ],
      "text/plain": [
       "| Final   | 0.390625          | 0.149502                                 |"
      ]
     },
     "metadata": {},
     "output_type": "display_data"
    },
    {
     "data": {
      "text/html": [
       "<pre>+---------+-------------------+------------------------------------------+</pre>"
      ],
      "text/plain": [
       "+---------+-------------------+------------------------------------------+"
      ]
     },
     "metadata": {},
     "output_type": "display_data"
    },
    {
     "data": {
      "text/html": [
       "<pre>Starting Optimization.</pre>"
      ],
      "text/plain": [
       "Starting Optimization."
      ]
     },
     "metadata": {},
     "output_type": "display_data"
    },
    {
     "data": {
      "text/html": [
       "<pre>+---------+--------------+-------------------+-----------------------+-------------+</pre>"
      ],
      "text/plain": [
       "+---------+--------------+-------------------+-----------------------+-------------+"
      ]
     },
     "metadata": {},
     "output_type": "display_data"
    },
    {
     "data": {
      "text/html": [
       "<pre>| Iter.   | Elapsed Time | Approx. Objective | Approx. Training RMSE | Step Size   |</pre>"
      ],
      "text/plain": [
       "| Iter.   | Elapsed Time | Approx. Objective | Approx. Training RMSE | Step Size   |"
      ]
     },
     "metadata": {},
     "output_type": "display_data"
    },
    {
     "data": {
      "text/html": [
       "<pre>+---------+--------------+-------------------+-----------------------+-------------+</pre>"
      ],
      "text/plain": [
       "+---------+--------------+-------------------+-----------------------+-------------+"
      ]
     },
     "metadata": {},
     "output_type": "display_data"
    },
    {
     "data": {
      "text/html": [
       "<pre>| Initial | 0us          | 1.71918           | 1.31117               |             |</pre>"
      ],
      "text/plain": [
       "| Initial | 0us          | 1.71918           | 1.31117               |             |"
      ]
     },
     "metadata": {},
     "output_type": "display_data"
    },
    {
     "data": {
      "text/html": [
       "<pre>+---------+--------------+-------------------+-----------------------+-------------+</pre>"
      ],
      "text/plain": [
       "+---------+--------------+-------------------+-----------------------+-------------+"
      ]
     },
     "metadata": {},
     "output_type": "display_data"
    },
    {
     "data": {
      "text/html": [
       "<pre>| 1       | 70.004ms     | DIVERGED          | DIVERGED              | 0.390625    |</pre>"
      ],
      "text/plain": [
       "| 1       | 70.004ms     | DIVERGED          | DIVERGED              | 0.390625    |"
      ]
     },
     "metadata": {},
     "output_type": "display_data"
    },
    {
     "data": {
      "text/html": [
       "<pre>| RESET   | 89.006ms     | 1.71917           | 1.31117               |             |</pre>"
      ],
      "text/plain": [
       "| RESET   | 89.006ms     | 1.71917           | 1.31117               |             |"
      ]
     },
     "metadata": {},
     "output_type": "display_data"
    },
    {
     "data": {
      "text/html": [
       "<pre>| 1       | 140.008ms    | 1.8714            | 1.36795               | 0.195312    |</pre>"
      ],
      "text/plain": [
       "| 1       | 140.008ms    | 1.8714            | 1.36795               | 0.195312    |"
      ]
     },
     "metadata": {},
     "output_type": "display_data"
    },
    {
     "data": {
      "text/html": [
       "<pre>| 2       | 177.011ms    | 1.27544           | 1.12934               | 0.116134    |</pre>"
      ],
      "text/plain": [
       "| 2       | 177.011ms    | 1.27544           | 1.12934               | 0.116134    |"
      ]
     },
     "metadata": {},
     "output_type": "display_data"
    },
    {
     "data": {
      "text/html": [
       "<pre>| 3       | 324.019ms    | 1.00848           | 1.00421               | 0.0856819   |</pre>"
      ],
      "text/plain": [
       "| 3       | 324.019ms    | 1.00848           | 1.00421               | 0.0856819   |"
      ]
     },
     "metadata": {},
     "output_type": "display_data"
    },
    {
     "data": {
      "text/html": [
       "<pre>| 4       | 463.027ms    | 0.699405          | 0.836272              | 0.0580668   |</pre>"
      ],
      "text/plain": [
       "| 4       | 463.027ms    | 0.699405          | 0.836272              | 0.0580668   |"
      ]
     },
     "metadata": {},
     "output_type": "display_data"
    },
    {
     "data": {
      "text/html": [
       "<pre>| 5       | 619.036ms    | 0.485771          | 0.696921              | 0.0491185   |</pre>"
      ],
      "text/plain": [
       "| 5       | 619.036ms    | 0.485771          | 0.696921              | 0.0491185   |"
      ]
     },
     "metadata": {},
     "output_type": "display_data"
    },
    {
     "data": {
      "text/html": [
       "<pre>| 6       | 695.04ms     | 0.339621          | 0.582692              | 0.042841    |</pre>"
      ],
      "text/plain": [
       "| 6       | 695.04ms     | 0.339621          | 0.582692              | 0.042841    |"
      ]
     },
     "metadata": {},
     "output_type": "display_data"
    },
    {
     "data": {
      "text/html": [
       "<pre>| 9       | 1.22s        | 0.135866          | 0.368428              | 0.0316075   |</pre>"
      ],
      "text/plain": [
       "| 9       | 1.22s        | 0.135866          | 0.368428              | 0.0316075   |"
      ]
     },
     "metadata": {},
     "output_type": "display_data"
    },
    {
     "data": {
      "text/html": [
       "<pre>| 11      | 1.56s        | 0.0847798         | 0.290928              | 0.0271912   |</pre>"
      ],
      "text/plain": [
       "| 11      | 1.56s        | 0.0847798         | 0.290928              | 0.0271912   |"
      ]
     },
     "metadata": {},
     "output_type": "display_data"
    },
    {
     "data": {
      "text/html": [
       "<pre>| 19      | 2.92s        | 0.0267306         | 0.162988              | 0.0180471   |</pre>"
      ],
      "text/plain": [
       "| 19      | 2.92s        | 0.0267306         | 0.162988              | 0.0180471   |"
      ]
     },
     "metadata": {},
     "output_type": "display_data"
    },
    {
     "data": {
      "text/html": [
       "<pre>| 29      | 3.62s        | 0.0127376         | 0.112079              | 0.0131424   |</pre>"
      ],
      "text/plain": [
       "| 29      | 3.62s        | 0.0127376         | 0.112079              | 0.0131424   |"
      ]
     },
     "metadata": {},
     "output_type": "display_data"
    },
    {
     "data": {
      "text/html": [
       "<pre>| 39      | 4.09s        | 0.00814756        | 0.0892563             | 0.0105238   |</pre>"
      ],
      "text/plain": [
       "| 39      | 4.09s        | 0.00814756        | 0.0892563             | 0.0105238   |"
      ]
     },
     "metadata": {},
     "output_type": "display_data"
    },
    {
     "data": {
      "text/html": [
       "<pre>| 49      | 4.52s        | 0.00597577        | 0.076105              | 0.008868    |</pre>"
      ],
      "text/plain": [
       "| 49      | 4.52s        | 0.00597577        | 0.076105              | 0.008868    |"
      ]
     },
     "metadata": {},
     "output_type": "display_data"
    },
    {
     "data": {
      "text/html": [
       "<pre>+---------+--------------+-------------------+-----------------------+-------------+</pre>"
      ],
      "text/plain": [
       "+---------+--------------+-------------------+-----------------------+-------------+"
      ]
     },
     "metadata": {},
     "output_type": "display_data"
    },
    {
     "data": {
      "text/html": [
       "<pre>Optimization Complete: Maximum number of passes through the data reached.</pre>"
      ],
      "text/plain": [
       "Optimization Complete: Maximum number of passes through the data reached."
      ]
     },
     "metadata": {},
     "output_type": "display_data"
    },
    {
     "data": {
      "text/html": [
       "<pre>Computing final objective value and training RMSE.</pre>"
      ],
      "text/plain": [
       "Computing final objective value and training RMSE."
      ]
     },
     "metadata": {},
     "output_type": "display_data"
    },
    {
     "data": {
      "text/html": [
       "<pre>       Final objective value: 0.00512518</pre>"
      ],
      "text/plain": [
       "       Final objective value: 0.00512518"
      ]
     },
     "metadata": {},
     "output_type": "display_data"
    },
    {
     "data": {
      "text/html": [
       "<pre>       Final training RMSE: 0.0702933</pre>"
      ],
      "text/plain": [
       "       Final training RMSE: 0.0702933"
      ]
     },
     "metadata": {},
     "output_type": "display_data"
    }
   ],
   "source": [
    "# use 10 latent features\n",
    "gl_recom_10 = graphlab.recommender.factorization_recommender.create(sf,\n",
    "                                                                user_id = \"user_id\",\n",
    "                                                                item_id = \"business_id\",\n",
    "                                                                target =\"stars\",\n",
    "                                                                num_factors = 10,\n",
    "                                                                random_seed = 100)"
   ]
  },
  {
   "cell_type": "code",
   "execution_count": 47,
   "metadata": {
    "collapsed": false
   },
   "outputs": [
    {
     "data": {
      "text/html": [
       "<div style=\"max-height:1000px;max-width:1500px;overflow:auto;\"><table frame=\"box\" rules=\"cols\">\n",
       "    <tr>\n",
       "        <th style=\"padding-left: 1em; padding-right: 1em; text-align: center\">user_id</th>\n",
       "        <th style=\"padding-left: 1em; padding-right: 1em; text-align: center\">business_id</th>\n",
       "        <th style=\"padding-left: 1em; padding-right: 1em; text-align: center\">score</th>\n",
       "        <th style=\"padding-left: 1em; padding-right: 1em; text-align: center\">rank</th>\n",
       "    </tr>\n",
       "    <tr>\n",
       "        <td style=\"padding-left: 1em; padding-right: 1em; text-align: center; vertical-align: top\">A6zYXofgFj6UhonFPrEDHw</td>\n",
       "        <td style=\"padding-left: 1em; padding-right: 1em; text-align: center; vertical-align: top\">7wMCJ9NqL9eBEX4WdJWuIA</td>\n",
       "        <td style=\"padding-left: 1em; padding-right: 1em; text-align: center; vertical-align: top\">6.44823237577</td>\n",
       "        <td style=\"padding-left: 1em; padding-right: 1em; text-align: center; vertical-align: top\">1</td>\n",
       "    </tr>\n",
       "    <tr>\n",
       "        <td style=\"padding-left: 1em; padding-right: 1em; text-align: center; vertical-align: top\">A6zYXofgFj6UhonFPrEDHw</td>\n",
       "        <td style=\"padding-left: 1em; padding-right: 1em; text-align: center; vertical-align: top\">dYZqJ2S1ND9KghLIKJg71g</td>\n",
       "        <td style=\"padding-left: 1em; padding-right: 1em; text-align: center; vertical-align: top\">6.03564807096</td>\n",
       "        <td style=\"padding-left: 1em; padding-right: 1em; text-align: center; vertical-align: top\">2</td>\n",
       "    </tr>\n",
       "    <tr>\n",
       "        <td style=\"padding-left: 1em; padding-right: 1em; text-align: center; vertical-align: top\">A6zYXofgFj6UhonFPrEDHw</td>\n",
       "        <td style=\"padding-left: 1em; padding-right: 1em; text-align: center; vertical-align: top\">bgx6gYdktqEoQwBdo5lRbA</td>\n",
       "        <td style=\"padding-left: 1em; padding-right: 1em; text-align: center; vertical-align: top\">6.03471013227</td>\n",
       "        <td style=\"padding-left: 1em; padding-right: 1em; text-align: center; vertical-align: top\">3</td>\n",
       "    </tr>\n",
       "    <tr>\n",
       "        <td style=\"padding-left: 1em; padding-right: 1em; text-align: center; vertical-align: top\">A6zYXofgFj6UhonFPrEDHw</td>\n",
       "        <td style=\"padding-left: 1em; padding-right: 1em; text-align: center; vertical-align: top\">893VryJbZcCm5V9xon_aLA</td>\n",
       "        <td style=\"padding-left: 1em; padding-right: 1em; text-align: center; vertical-align: top\">6.012339317</td>\n",
       "        <td style=\"padding-left: 1em; padding-right: 1em; text-align: center; vertical-align: top\">4</td>\n",
       "    </tr>\n",
       "    <tr>\n",
       "        <td style=\"padding-left: 1em; padding-right: 1em; text-align: center; vertical-align: top\">A6zYXofgFj6UhonFPrEDHw</td>\n",
       "        <td style=\"padding-left: 1em; padding-right: 1em; text-align: center; vertical-align: top\">RwMLuOkImBIqqYj4SSKSPg</td>\n",
       "        <td style=\"padding-left: 1em; padding-right: 1em; text-align: center; vertical-align: top\">5.98470076242</td>\n",
       "        <td style=\"padding-left: 1em; padding-right: 1em; text-align: center; vertical-align: top\">5</td>\n",
       "    </tr>\n",
       "    <tr>\n",
       "        <td style=\"padding-left: 1em; padding-right: 1em; text-align: center; vertical-align: top\">A6zYXofgFj6UhonFPrEDHw</td>\n",
       "        <td style=\"padding-left: 1em; padding-right: 1em; text-align: center; vertical-align: top\">UaL6yRGSv9fYCyn2DJLu8w</td>\n",
       "        <td style=\"padding-left: 1em; padding-right: 1em; text-align: center; vertical-align: top\">5.97460647741</td>\n",
       "        <td style=\"padding-left: 1em; padding-right: 1em; text-align: center; vertical-align: top\">6</td>\n",
       "    </tr>\n",
       "    <tr>\n",
       "        <td style=\"padding-left: 1em; padding-right: 1em; text-align: center; vertical-align: top\">A6zYXofgFj6UhonFPrEDHw</td>\n",
       "        <td style=\"padding-left: 1em; padding-right: 1em; text-align: center; vertical-align: top\">0ps5B5C6oNaRsGyUJzFCuw</td>\n",
       "        <td style=\"padding-left: 1em; padding-right: 1em; text-align: center; vertical-align: top\">5.96976801077</td>\n",
       "        <td style=\"padding-left: 1em; padding-right: 1em; text-align: center; vertical-align: top\">7</td>\n",
       "    </tr>\n",
       "    <tr>\n",
       "        <td style=\"padding-left: 1em; padding-right: 1em; text-align: center; vertical-align: top\">A6zYXofgFj6UhonFPrEDHw</td>\n",
       "        <td style=\"padding-left: 1em; padding-right: 1em; text-align: center; vertical-align: top\">zOYqvrpenMaAz0rc7n41Aw</td>\n",
       "        <td style=\"padding-left: 1em; padding-right: 1em; text-align: center; vertical-align: top\">5.88827332178</td>\n",
       "        <td style=\"padding-left: 1em; padding-right: 1em; text-align: center; vertical-align: top\">8</td>\n",
       "    </tr>\n",
       "    <tr>\n",
       "        <td style=\"padding-left: 1em; padding-right: 1em; text-align: center; vertical-align: top\">A6zYXofgFj6UhonFPrEDHw</td>\n",
       "        <td style=\"padding-left: 1em; padding-right: 1em; text-align: center; vertical-align: top\">vRFYqRz5F41ici5IOO2_pg</td>\n",
       "        <td style=\"padding-left: 1em; padding-right: 1em; text-align: center; vertical-align: top\">5.85957118192</td>\n",
       "        <td style=\"padding-left: 1em; padding-right: 1em; text-align: center; vertical-align: top\">9</td>\n",
       "    </tr>\n",
       "    <tr>\n",
       "        <td style=\"padding-left: 1em; padding-right: 1em; text-align: center; vertical-align: top\">A6zYXofgFj6UhonFPrEDHw</td>\n",
       "        <td style=\"padding-left: 1em; padding-right: 1em; text-align: center; vertical-align: top\">Ozy5LlmU0k-mVs7RXNisZQ</td>\n",
       "        <td style=\"padding-left: 1em; padding-right: 1em; text-align: center; vertical-align: top\">5.84935923734</td>\n",
       "        <td style=\"padding-left: 1em; padding-right: 1em; text-align: center; vertical-align: top\">10</td>\n",
       "    </tr>\n",
       "</table>\n",
       "[10 rows x 4 columns]<br/>\n",
       "</div>"
      ],
      "text/plain": [
       "Columns:\n",
       "\tuser_id\tstr\n",
       "\tbusiness_id\tstr\n",
       "\tscore\tfloat\n",
       "\trank\tint\n",
       "\n",
       "Rows: 10\n",
       "\n",
       "Data:\n",
       "+------------------------+------------------------+---------------+------+\n",
       "|        user_id         |      business_id       |     score     | rank |\n",
       "+------------------------+------------------------+---------------+------+\n",
       "| A6zYXofgFj6UhonFPrEDHw | 7wMCJ9NqL9eBEX4WdJWuIA | 6.44823237577 |  1   |\n",
       "| A6zYXofgFj6UhonFPrEDHw | dYZqJ2S1ND9KghLIKJg71g | 6.03564807096 |  2   |\n",
       "| A6zYXofgFj6UhonFPrEDHw | bgx6gYdktqEoQwBdo5lRbA | 6.03471013227 |  3   |\n",
       "| A6zYXofgFj6UhonFPrEDHw | 893VryJbZcCm5V9xon_aLA |  6.012339317  |  4   |\n",
       "| A6zYXofgFj6UhonFPrEDHw | RwMLuOkImBIqqYj4SSKSPg | 5.98470076242 |  5   |\n",
       "| A6zYXofgFj6UhonFPrEDHw | UaL6yRGSv9fYCyn2DJLu8w | 5.97460647741 |  6   |\n",
       "| A6zYXofgFj6UhonFPrEDHw | 0ps5B5C6oNaRsGyUJzFCuw | 5.96976801077 |  7   |\n",
       "| A6zYXofgFj6UhonFPrEDHw | zOYqvrpenMaAz0rc7n41Aw | 5.88827332178 |  8   |\n",
       "| A6zYXofgFj6UhonFPrEDHw | vRFYqRz5F41ici5IOO2_pg | 5.85957118192 |  9   |\n",
       "| A6zYXofgFj6UhonFPrEDHw | Ozy5LlmU0k-mVs7RXNisZQ | 5.84935923734 |  10  |\n",
       "+------------------------+------------------------+---------------+------+\n",
       "[10 rows x 4 columns]"
      ]
     },
     "execution_count": 47,
     "metadata": {},
     "output_type": "execute_result"
    }
   ],
   "source": [
    "# recommended restaurants for user#1\n",
    "gl_recom_10.recommend(users = [\"A6zYXofgFj6UhonFPrEDHw\"], k=10)[\"business_id\"]"
   ]
  },
  {
   "cell_type": "code",
   "execution_count": 48,
   "metadata": {
    "collapsed": false
   },
   "outputs": [
    {
     "data": {
      "text/html": [
       "<pre>Recsys training: model = factorization_recommender</pre>"
      ],
      "text/plain": [
       "Recsys training: model = factorization_recommender"
      ]
     },
     "metadata": {},
     "output_type": "display_data"
    },
    {
     "data": {
      "text/html": [
       "<pre>Preparing data set.</pre>"
      ],
      "text/plain": [
       "Preparing data set."
      ]
     },
     "metadata": {},
     "output_type": "display_data"
    },
    {
     "data": {
      "text/html": [
       "<pre>    Data has 66115 observations with 18614 users and 3508 items.</pre>"
      ],
      "text/plain": [
       "    Data has 66115 observations with 18614 users and 3508 items."
      ]
     },
     "metadata": {},
     "output_type": "display_data"
    },
    {
     "data": {
      "text/html": [
       "<pre>    Data prepared in: 0.34502s</pre>"
      ],
      "text/plain": [
       "    Data prepared in: 0.34502s"
      ]
     },
     "metadata": {},
     "output_type": "display_data"
    },
    {
     "data": {
      "text/html": [
       "<pre>Training factorization_recommender for recommendations.</pre>"
      ],
      "text/plain": [
       "Training factorization_recommender for recommendations."
      ]
     },
     "metadata": {},
     "output_type": "display_data"
    },
    {
     "data": {
      "text/html": [
       "<pre>+--------------------------------+--------------------------------------------------+----------+</pre>"
      ],
      "text/plain": [
       "+--------------------------------+--------------------------------------------------+----------+"
      ]
     },
     "metadata": {},
     "output_type": "display_data"
    },
    {
     "data": {
      "text/html": [
       "<pre>| Parameter                      | Description                                      | Value    |</pre>"
      ],
      "text/plain": [
       "| Parameter                      | Description                                      | Value    |"
      ]
     },
     "metadata": {},
     "output_type": "display_data"
    },
    {
     "data": {
      "text/html": [
       "<pre>+--------------------------------+--------------------------------------------------+----------+</pre>"
      ],
      "text/plain": [
       "+--------------------------------+--------------------------------------------------+----------+"
      ]
     },
     "metadata": {},
     "output_type": "display_data"
    },
    {
     "data": {
      "text/html": [
       "<pre>| num_factors                    | Factor Dimension                                 | 100      |</pre>"
      ],
      "text/plain": [
       "| num_factors                    | Factor Dimension                                 | 100      |"
      ]
     },
     "metadata": {},
     "output_type": "display_data"
    },
    {
     "data": {
      "text/html": [
       "<pre>| regularization                 | L2 Regularization on Factors                     | 1e-008   |</pre>"
      ],
      "text/plain": [
       "| regularization                 | L2 Regularization on Factors                     | 1e-008   |"
      ]
     },
     "metadata": {},
     "output_type": "display_data"
    },
    {
     "data": {
      "text/html": [
       "<pre>| solver                         | Solver used for training                         | sgd      |</pre>"
      ],
      "text/plain": [
       "| solver                         | Solver used for training                         | sgd      |"
      ]
     },
     "metadata": {},
     "output_type": "display_data"
    },
    {
     "data": {
      "text/html": [
       "<pre>| linear_regularization          | L2 Regularization on Linear Coefficients         | 1e-010   |</pre>"
      ],
      "text/plain": [
       "| linear_regularization          | L2 Regularization on Linear Coefficients         | 1e-010   |"
      ]
     },
     "metadata": {},
     "output_type": "display_data"
    },
    {
     "data": {
      "text/html": [
       "<pre>| max_iterations                 | Maximum Number of Iterations                     | 50       |</pre>"
      ],
      "text/plain": [
       "| max_iterations                 | Maximum Number of Iterations                     | 50       |"
      ]
     },
     "metadata": {},
     "output_type": "display_data"
    },
    {
     "data": {
      "text/html": [
       "<pre>+--------------------------------+--------------------------------------------------+----------+</pre>"
      ],
      "text/plain": [
       "+--------------------------------+--------------------------------------------------+----------+"
      ]
     },
     "metadata": {},
     "output_type": "display_data"
    },
    {
     "data": {
      "text/html": [
       "<pre>  Optimizing model using SGD; tuning step size.</pre>"
      ],
      "text/plain": [
       "  Optimizing model using SGD; tuning step size."
      ]
     },
     "metadata": {},
     "output_type": "display_data"
    },
    {
     "data": {
      "text/html": [
       "<pre>  Using 10000 / 66115 points for tuning the step size.</pre>"
      ],
      "text/plain": [
       "  Using 10000 / 66115 points for tuning the step size."
      ]
     },
     "metadata": {},
     "output_type": "display_data"
    },
    {
     "data": {
      "text/html": [
       "<pre>+---------+-------------------+------------------------------------------+</pre>"
      ],
      "text/plain": [
       "+---------+-------------------+------------------------------------------+"
      ]
     },
     "metadata": {},
     "output_type": "display_data"
    },
    {
     "data": {
      "text/html": [
       "<pre>| Attempt | Initial Step Size | Estimated Objective Value                |</pre>"
      ],
      "text/plain": [
       "| Attempt | Initial Step Size | Estimated Objective Value                |"
      ]
     },
     "metadata": {},
     "output_type": "display_data"
    },
    {
     "data": {
      "text/html": [
       "<pre>+---------+-------------------+------------------------------------------+</pre>"
      ],
      "text/plain": [
       "+---------+-------------------+------------------------------------------+"
      ]
     },
     "metadata": {},
     "output_type": "display_data"
    },
    {
     "data": {
      "text/html": [
       "<pre>| 0       | 25                | Not Viable                               |</pre>"
      ],
      "text/plain": [
       "| 0       | 25                | Not Viable                               |"
      ]
     },
     "metadata": {},
     "output_type": "display_data"
    },
    {
     "data": {
      "text/html": [
       "<pre>| 1       | 6.25              | Not Viable                               |</pre>"
      ],
      "text/plain": [
       "| 1       | 6.25              | Not Viable                               |"
      ]
     },
     "metadata": {},
     "output_type": "display_data"
    },
    {
     "data": {
      "text/html": [
       "<pre>| 2       | 1.5625            | Not Viable                               |</pre>"
      ],
      "text/plain": [
       "| 2       | 1.5625            | Not Viable                               |"
      ]
     },
     "metadata": {},
     "output_type": "display_data"
    },
    {
     "data": {
      "text/html": [
       "<pre>| 3       | 0.390625          | 0.152784                                 |</pre>"
      ],
      "text/plain": [
       "| 3       | 0.390625          | 0.152784                                 |"
      ]
     },
     "metadata": {},
     "output_type": "display_data"
    },
    {
     "data": {
      "text/html": [
       "<pre>| 4       | 0.195312          | 0.221657                                 |</pre>"
      ],
      "text/plain": [
       "| 4       | 0.195312          | 0.221657                                 |"
      ]
     },
     "metadata": {},
     "output_type": "display_data"
    },
    {
     "data": {
      "text/html": [
       "<pre>| 5       | 0.0976562         | 0.429887                                 |</pre>"
      ],
      "text/plain": [
       "| 5       | 0.0976562         | 0.429887                                 |"
      ]
     },
     "metadata": {},
     "output_type": "display_data"
    },
    {
     "data": {
      "text/html": [
       "<pre>+---------+-------------------+------------------------------------------+</pre>"
      ],
      "text/plain": [
       "+---------+-------------------+------------------------------------------+"
      ]
     },
     "metadata": {},
     "output_type": "display_data"
    },
    {
     "data": {
      "text/html": [
       "<pre>| Final   | 0.390625          | 0.152784                                 |</pre>"
      ],
      "text/plain": [
       "| Final   | 0.390625          | 0.152784                                 |"
      ]
     },
     "metadata": {},
     "output_type": "display_data"
    },
    {
     "data": {
      "text/html": [
       "<pre>+---------+-------------------+------------------------------------------+</pre>"
      ],
      "text/plain": [
       "+---------+-------------------+------------------------------------------+"
      ]
     },
     "metadata": {},
     "output_type": "display_data"
    },
    {
     "data": {
      "text/html": [
       "<pre>Starting Optimization.</pre>"
      ],
      "text/plain": [
       "Starting Optimization."
      ]
     },
     "metadata": {},
     "output_type": "display_data"
    },
    {
     "data": {
      "text/html": [
       "<pre>+---------+--------------+-------------------+-----------------------+-------------+</pre>"
      ],
      "text/plain": [
       "+---------+--------------+-------------------+-----------------------+-------------+"
      ]
     },
     "metadata": {},
     "output_type": "display_data"
    },
    {
     "data": {
      "text/html": [
       "<pre>| Iter.   | Elapsed Time | Approx. Objective | Approx. Training RMSE | Step Size   |</pre>"
      ],
      "text/plain": [
       "| Iter.   | Elapsed Time | Approx. Objective | Approx. Training RMSE | Step Size   |"
      ]
     },
     "metadata": {},
     "output_type": "display_data"
    },
    {
     "data": {
      "text/html": [
       "<pre>+---------+--------------+-------------------+-----------------------+-------------+</pre>"
      ],
      "text/plain": [
       "+---------+--------------+-------------------+-----------------------+-------------+"
      ]
     },
     "metadata": {},
     "output_type": "display_data"
    },
    {
     "data": {
      "text/html": [
       "<pre>| Initial | 1ms          | 1.71916           | 1.31117               |             |</pre>"
      ],
      "text/plain": [
       "| Initial | 1ms          | 1.71916           | 1.31117               |             |"
      ]
     },
     "metadata": {},
     "output_type": "display_data"
    },
    {
     "data": {
      "text/html": [
       "<pre>+---------+--------------+-------------------+-----------------------+-------------+</pre>"
      ],
      "text/plain": [
       "+---------+--------------+-------------------+-----------------------+-------------+"
      ]
     },
     "metadata": {},
     "output_type": "display_data"
    },
    {
     "data": {
      "text/html": [
       "<pre>| 1       | 76.004ms     | DIVERGED          | DIVERGED              | 0.390625    |</pre>"
      ],
      "text/plain": [
       "| 1       | 76.004ms     | DIVERGED          | DIVERGED              | 0.390625    |"
      ]
     },
     "metadata": {},
     "output_type": "display_data"
    },
    {
     "data": {
      "text/html": [
       "<pre>| RESET   | 190.011ms    | 1.71917           | 1.31117               |             |</pre>"
      ],
      "text/plain": [
       "| RESET   | 190.011ms    | 1.71917           | 1.31117               |             |"
      ]
     },
     "metadata": {},
     "output_type": "display_data"
    },
    {
     "data": {
      "text/html": [
       "<pre>| 1       | 280.016ms    | 1.86876           | 1.36699               | 0.195312    |</pre>"
      ],
      "text/plain": [
       "| 1       | 280.016ms    | 1.86876           | 1.36699               | 0.195312    |"
      ]
     },
     "metadata": {},
     "output_type": "display_data"
    },
    {
     "data": {
      "text/html": [
       "<pre>| 2       | 326.019ms    | 1.27919           | 1.13099               | 0.116134    |</pre>"
      ],
      "text/plain": [
       "| 2       | 326.019ms    | 1.27919           | 1.13099               | 0.116134    |"
      ]
     },
     "metadata": {},
     "output_type": "display_data"
    },
    {
     "data": {
      "text/html": [
       "<pre>| 3       | 385.022ms    | 1.07988           | 1.03916               | 0.0856819   |</pre>"
      ],
      "text/plain": [
       "| 3       | 385.022ms    | 1.07988           | 1.03916               | 0.0856819   |"
      ]
     },
     "metadata": {},
     "output_type": "display_data"
    },
    {
     "data": {
      "text/html": [
       "<pre>| 4       | 489.028ms    | 0.872888          | 0.934271              | 0.0580668   |</pre>"
      ],
      "text/plain": [
       "| 4       | 489.028ms    | 0.872888          | 0.934271              | 0.0580668   |"
      ]
     },
     "metadata": {},
     "output_type": "display_data"
    },
    {
     "data": {
      "text/html": [
       "<pre>| 5       | 554.032ms    | 0.671473          | 0.81941               | 0.0491185   |</pre>"
      ],
      "text/plain": [
       "| 5       | 554.032ms    | 0.671473          | 0.81941               | 0.0491185   |"
      ]
     },
     "metadata": {},
     "output_type": "display_data"
    },
    {
     "data": {
      "text/html": [
       "<pre>| 6       | 620.036ms    | 0.490633          | 0.700409              | 0.042841    |</pre>"
      ],
      "text/plain": [
       "| 6       | 620.036ms    | 0.490633          | 0.700409              | 0.042841    |"
      ]
     },
     "metadata": {},
     "output_type": "display_data"
    },
    {
     "data": {
      "text/html": [
       "<pre>| 11      | 918.053ms    | 0.104284          | 0.32274               | 0.0271912   |</pre>"
      ],
      "text/plain": [
       "| 11      | 918.053ms    | 0.104284          | 0.32274               | 0.0271912   |"
      ]
     },
     "metadata": {},
     "output_type": "display_data"
    },
    {
     "data": {
      "text/html": [
       "<pre>| 24      | 2.36s        | 0.0103096         | 0.100743              | 0.0151466   |</pre>"
      ],
      "text/plain": [
       "| 24      | 2.36s        | 0.0103096         | 0.100743              | 0.0151466   |"
      ]
     },
     "metadata": {},
     "output_type": "display_data"
    },
    {
     "data": {
      "text/html": [
       "<pre>| 49      | 5.86s        | 0.00164622        | 0.0384186             | 0.008868    |</pre>"
      ],
      "text/plain": [
       "| 49      | 5.86s        | 0.00164622        | 0.0384186             | 0.008868    |"
      ]
     },
     "metadata": {},
     "output_type": "display_data"
    },
    {
     "data": {
      "text/html": [
       "<pre>+---------+--------------+-------------------+-----------------------+-------------+</pre>"
      ],
      "text/plain": [
       "+---------+--------------+-------------------+-----------------------+-------------+"
      ]
     },
     "metadata": {},
     "output_type": "display_data"
    },
    {
     "data": {
      "text/html": [
       "<pre>Optimization Complete: Maximum number of passes through the data reached.</pre>"
      ],
      "text/plain": [
       "Optimization Complete: Maximum number of passes through the data reached."
      ]
     },
     "metadata": {},
     "output_type": "display_data"
    },
    {
     "data": {
      "text/html": [
       "<pre>Computing final objective value and training RMSE.</pre>"
      ],
      "text/plain": [
       "Computing final objective value and training RMSE."
      ]
     },
     "metadata": {},
     "output_type": "display_data"
    },
    {
     "data": {
      "text/html": [
       "<pre>       Final objective value: 0.00144636</pre>"
      ],
      "text/plain": [
       "       Final objective value: 0.00144636"
      ]
     },
     "metadata": {},
     "output_type": "display_data"
    },
    {
     "data": {
      "text/html": [
       "<pre>       Final training RMSE: 0.0357209</pre>"
      ],
      "text/plain": [
       "       Final training RMSE: 0.0357209"
      ]
     },
     "metadata": {},
     "output_type": "display_data"
    }
   ],
   "source": [
    "# use 100 latent features\n",
    "gl_recom_100 = graphlab.recommender.factorization_recommender.create(sf,\n",
    "                                                                user_id = \"user_id\",\n",
    "                                                                item_id = \"business_id\",\n",
    "                                                                target =\"stars\",\n",
    "                                                                num_factors = 100,\n",
    "                                                                random_seed = 100)"
   ]
  },
  {
   "cell_type": "code",
   "execution_count": 50,
   "metadata": {
    "collapsed": false
   },
   "outputs": [
    {
     "data": {
      "text/html": [
       "<div style=\"max-height:1000px;max-width:1500px;overflow:auto;\"><table frame=\"box\" rules=\"cols\">\n",
       "    <tr>\n",
       "        <th style=\"padding-left: 1em; padding-right: 1em; text-align: center\">user_id</th>\n",
       "        <th style=\"padding-left: 1em; padding-right: 1em; text-align: center\">business_id</th>\n",
       "        <th style=\"padding-left: 1em; padding-right: 1em; text-align: center\">score</th>\n",
       "        <th style=\"padding-left: 1em; padding-right: 1em; text-align: center\">rank</th>\n",
       "    </tr>\n",
       "    <tr>\n",
       "        <td style=\"padding-left: 1em; padding-right: 1em; text-align: center; vertical-align: top\">A6zYXofgFj6UhonFPrEDHw</td>\n",
       "        <td style=\"padding-left: 1em; padding-right: 1em; text-align: center; vertical-align: top\">dtqT51H8Q8mIvrLylVuiZg</td>\n",
       "        <td style=\"padding-left: 1em; padding-right: 1em; text-align: center; vertical-align: top\">6.59740635076</td>\n",
       "        <td style=\"padding-left: 1em; padding-right: 1em; text-align: center; vertical-align: top\">1</td>\n",
       "    </tr>\n",
       "    <tr>\n",
       "        <td style=\"padding-left: 1em; padding-right: 1em; text-align: center; vertical-align: top\">A6zYXofgFj6UhonFPrEDHw</td>\n",
       "        <td style=\"padding-left: 1em; padding-right: 1em; text-align: center; vertical-align: top\">7wMCJ9NqL9eBEX4WdJWuIA</td>\n",
       "        <td style=\"padding-left: 1em; padding-right: 1em; text-align: center; vertical-align: top\">6.40077205816</td>\n",
       "        <td style=\"padding-left: 1em; padding-right: 1em; text-align: center; vertical-align: top\">2</td>\n",
       "    </tr>\n",
       "    <tr>\n",
       "        <td style=\"padding-left: 1em; padding-right: 1em; text-align: center; vertical-align: top\">A6zYXofgFj6UhonFPrEDHw</td>\n",
       "        <td style=\"padding-left: 1em; padding-right: 1em; text-align: center; vertical-align: top\">dYZqJ2S1ND9KghLIKJg71g</td>\n",
       "        <td style=\"padding-left: 1em; padding-right: 1em; text-align: center; vertical-align: top\">6.39601560751</td>\n",
       "        <td style=\"padding-left: 1em; padding-right: 1em; text-align: center; vertical-align: top\">3</td>\n",
       "    </tr>\n",
       "    <tr>\n",
       "        <td style=\"padding-left: 1em; padding-right: 1em; text-align: center; vertical-align: top\">A6zYXofgFj6UhonFPrEDHw</td>\n",
       "        <td style=\"padding-left: 1em; padding-right: 1em; text-align: center; vertical-align: top\">893VryJbZcCm5V9xon_aLA</td>\n",
       "        <td style=\"padding-left: 1em; padding-right: 1em; text-align: center; vertical-align: top\">6.3040556542</td>\n",
       "        <td style=\"padding-left: 1em; padding-right: 1em; text-align: center; vertical-align: top\">4</td>\n",
       "    </tr>\n",
       "    <tr>\n",
       "        <td style=\"padding-left: 1em; padding-right: 1em; text-align: center; vertical-align: top\">A6zYXofgFj6UhonFPrEDHw</td>\n",
       "        <td style=\"padding-left: 1em; padding-right: 1em; text-align: center; vertical-align: top\">UaL6yRGSv9fYCyn2DJLu8w</td>\n",
       "        <td style=\"padding-left: 1em; padding-right: 1em; text-align: center; vertical-align: top\">6.15378900686</td>\n",
       "        <td style=\"padding-left: 1em; padding-right: 1em; text-align: center; vertical-align: top\">5</td>\n",
       "    </tr>\n",
       "    <tr>\n",
       "        <td style=\"padding-left: 1em; padding-right: 1em; text-align: center; vertical-align: top\">A6zYXofgFj6UhonFPrEDHw</td>\n",
       "        <td style=\"padding-left: 1em; padding-right: 1em; text-align: center; vertical-align: top\">0ps5B5C6oNaRsGyUJzFCuw</td>\n",
       "        <td style=\"padding-left: 1em; padding-right: 1em; text-align: center; vertical-align: top\">6.1432642571</td>\n",
       "        <td style=\"padding-left: 1em; padding-right: 1em; text-align: center; vertical-align: top\">6</td>\n",
       "    </tr>\n",
       "    <tr>\n",
       "        <td style=\"padding-left: 1em; padding-right: 1em; text-align: center; vertical-align: top\">A6zYXofgFj6UhonFPrEDHw</td>\n",
       "        <td style=\"padding-left: 1em; padding-right: 1em; text-align: center; vertical-align: top\">OQcvO5P3gH0cuJ-bPXwfQQ</td>\n",
       "        <td style=\"padding-left: 1em; padding-right: 1em; text-align: center; vertical-align: top\">6.09730728784</td>\n",
       "        <td style=\"padding-left: 1em; padding-right: 1em; text-align: center; vertical-align: top\">7</td>\n",
       "    </tr>\n",
       "    <tr>\n",
       "        <td style=\"padding-left: 1em; padding-right: 1em; text-align: center; vertical-align: top\">A6zYXofgFj6UhonFPrEDHw</td>\n",
       "        <td style=\"padding-left: 1em; padding-right: 1em; text-align: center; vertical-align: top\">l1GJnB9TJgGgEeI4at1M0A</td>\n",
       "        <td style=\"padding-left: 1em; padding-right: 1em; text-align: center; vertical-align: top\">6.02048107305</td>\n",
       "        <td style=\"padding-left: 1em; padding-right: 1em; text-align: center; vertical-align: top\">8</td>\n",
       "    </tr>\n",
       "    <tr>\n",
       "        <td style=\"padding-left: 1em; padding-right: 1em; text-align: center; vertical-align: top\">A6zYXofgFj6UhonFPrEDHw</td>\n",
       "        <td style=\"padding-left: 1em; padding-right: 1em; text-align: center; vertical-align: top\">bgx6gYdktqEoQwBdo5lRbA</td>\n",
       "        <td style=\"padding-left: 1em; padding-right: 1em; text-align: center; vertical-align: top\">5.98309298673</td>\n",
       "        <td style=\"padding-left: 1em; padding-right: 1em; text-align: center; vertical-align: top\">9</td>\n",
       "    </tr>\n",
       "    <tr>\n",
       "        <td style=\"padding-left: 1em; padding-right: 1em; text-align: center; vertical-align: top\">A6zYXofgFj6UhonFPrEDHw</td>\n",
       "        <td style=\"padding-left: 1em; padding-right: 1em; text-align: center; vertical-align: top\">Ozy5LlmU0k-mVs7RXNisZQ</td>\n",
       "        <td style=\"padding-left: 1em; padding-right: 1em; text-align: center; vertical-align: top\">5.94025190988</td>\n",
       "        <td style=\"padding-left: 1em; padding-right: 1em; text-align: center; vertical-align: top\">10</td>\n",
       "    </tr>\n",
       "</table>\n",
       "[10 rows x 4 columns]<br/>\n",
       "</div>"
      ],
      "text/plain": [
       "Columns:\n",
       "\tuser_id\tstr\n",
       "\tbusiness_id\tstr\n",
       "\tscore\tfloat\n",
       "\trank\tint\n",
       "\n",
       "Rows: 10\n",
       "\n",
       "Data:\n",
       "+------------------------+------------------------+---------------+------+\n",
       "|        user_id         |      business_id       |     score     | rank |\n",
       "+------------------------+------------------------+---------------+------+\n",
       "| A6zYXofgFj6UhonFPrEDHw | dtqT51H8Q8mIvrLylVuiZg | 6.59740635076 |  1   |\n",
       "| A6zYXofgFj6UhonFPrEDHw | 7wMCJ9NqL9eBEX4WdJWuIA | 6.40077205816 |  2   |\n",
       "| A6zYXofgFj6UhonFPrEDHw | dYZqJ2S1ND9KghLIKJg71g | 6.39601560751 |  3   |\n",
       "| A6zYXofgFj6UhonFPrEDHw | 893VryJbZcCm5V9xon_aLA |  6.3040556542 |  4   |\n",
       "| A6zYXofgFj6UhonFPrEDHw | UaL6yRGSv9fYCyn2DJLu8w | 6.15378900686 |  5   |\n",
       "| A6zYXofgFj6UhonFPrEDHw | 0ps5B5C6oNaRsGyUJzFCuw |  6.1432642571 |  6   |\n",
       "| A6zYXofgFj6UhonFPrEDHw | OQcvO5P3gH0cuJ-bPXwfQQ | 6.09730728784 |  7   |\n",
       "| A6zYXofgFj6UhonFPrEDHw | l1GJnB9TJgGgEeI4at1M0A | 6.02048107305 |  8   |\n",
       "| A6zYXofgFj6UhonFPrEDHw | bgx6gYdktqEoQwBdo5lRbA | 5.98309298673 |  9   |\n",
       "| A6zYXofgFj6UhonFPrEDHw | Ozy5LlmU0k-mVs7RXNisZQ | 5.94025190988 |  10  |\n",
       "+------------------------+------------------------+---------------+------+\n",
       "[10 rows x 4 columns]"
      ]
     },
     "execution_count": 50,
     "metadata": {},
     "output_type": "execute_result"
    }
   ],
   "source": [
    "gl_recom_100.recommend(users = [\"A6zYXofgFj6UhonFPrEDHw\"], k=10)"
   ]
  },
  {
   "cell_type": "markdown",
   "metadata": {},
   "source": [
    "Using 10 latent features and 100 latent features give similar results. "
   ]
  },
  {
   "cell_type": "markdown",
   "metadata": {},
   "source": [
    "#### Compare recommended restaurants with user rated restaurant"
   ]
  },
  {
   "cell_type": "code",
   "execution_count": 56,
   "metadata": {
    "collapsed": false
   },
   "outputs": [],
   "source": [
    "gl_recom_business = list(gl_recom_10.recommend(users = [\"A6zYXofgFj6UhonFPrEDHw\"], k=20)[\"business_id\"])"
   ]
  },
  {
   "cell_type": "code",
   "execution_count": 57,
   "metadata": {
    "collapsed": false
   },
   "outputs": [
    {
     "data": {
      "text/html": [
       "<div>\n",
       "<table border=\"1\" class=\"dataframe\">\n",
       "  <thead>\n",
       "    <tr style=\"text-align: right;\">\n",
       "      <th></th>\n",
       "      <th>name</th>\n",
       "      <th>categories</th>\n",
       "    </tr>\n",
       "  </thead>\n",
       "  <tbody>\n",
       "    <tr>\n",
       "      <th>169</th>\n",
       "      <td>Serrano's Mexican Restaurant</td>\n",
       "      <td>[Restaurants, Mexican]</td>\n",
       "    </tr>\n",
       "    <tr>\n",
       "      <th>252</th>\n",
       "      <td>Forte European Tapas Bar and Bistro</td>\n",
       "      <td>[Ukrainian, Tapas Bars, Restaurants, Spanish]</td>\n",
       "    </tr>\n",
       "    <tr>\n",
       "      <th>958</th>\n",
       "      <td>Those Guys Pies</td>\n",
       "      <td>[Restaurants, Cheesesteaks, American (New), Sa...</td>\n",
       "    </tr>\n",
       "    <tr>\n",
       "      <th>1785</th>\n",
       "      <td>Tacos El Gordo</td>\n",
       "      <td>[Mexican, Restaurants]</td>\n",
       "    </tr>\n",
       "    <tr>\n",
       "      <th>1883</th>\n",
       "      <td>La Papaya</td>\n",
       "      <td>[Food, Juice Bars &amp; Smoothies, Delis, Restaura...</td>\n",
       "    </tr>\n",
       "    <tr>\n",
       "      <th>1952</th>\n",
       "      <td>Taco San Francisco</td>\n",
       "      <td>[Mexican, Food, Food Trucks, Restaurants]</td>\n",
       "    </tr>\n",
       "    <tr>\n",
       "      <th>2139</th>\n",
       "      <td>Outback Steakhouse</td>\n",
       "      <td>[Restaurants, Steakhouses]</td>\n",
       "    </tr>\n",
       "    <tr>\n",
       "      <th>2436</th>\n",
       "      <td>Port of Subs</td>\n",
       "      <td>[Restaurants, Sandwiches, Delis]</td>\n",
       "    </tr>\n",
       "    <tr>\n",
       "      <th>2438</th>\n",
       "      <td>Subway</td>\n",
       "      <td>[Fast Food, Sandwiches, Restaurants]</td>\n",
       "    </tr>\n",
       "    <tr>\n",
       "      <th>2533</th>\n",
       "      <td>Tacos El Burrito Loco</td>\n",
       "      <td>[Restaurants, Mexican]</td>\n",
       "    </tr>\n",
       "    <tr>\n",
       "      <th>2719</th>\n",
       "      <td>Port of Subs</td>\n",
       "      <td>[Restaurants, Sandwiches, Delis]</td>\n",
       "    </tr>\n",
       "    <tr>\n",
       "      <th>2884</th>\n",
       "      <td>Vegas Express Sushi</td>\n",
       "      <td>[Sushi Bars, Grocery, Food, Restaurants]</td>\n",
       "    </tr>\n",
       "    <tr>\n",
       "      <th>3074</th>\n",
       "      <td>Del Taco</td>\n",
       "      <td>[Mexican, Restaurants]</td>\n",
       "    </tr>\n",
       "    <tr>\n",
       "      <th>3164</th>\n",
       "      <td>Subway</td>\n",
       "      <td>[Restaurants, Sandwiches, Fast Food]</td>\n",
       "    </tr>\n",
       "    <tr>\n",
       "      <th>3510</th>\n",
       "      <td>OMG Sushi</td>\n",
       "      <td>[Sushi Bars, Restaurants]</td>\n",
       "    </tr>\n",
       "    <tr>\n",
       "      <th>3602</th>\n",
       "      <td>Anthony's New York Pizza &amp; Deli</td>\n",
       "      <td>[Restaurants, Pizza, Food, Delis]</td>\n",
       "    </tr>\n",
       "    <tr>\n",
       "      <th>4610</th>\n",
       "      <td>Port of Subs</td>\n",
       "      <td>[Restaurants, Sandwiches, Delis]</td>\n",
       "    </tr>\n",
       "    <tr>\n",
       "      <th>4675</th>\n",
       "      <td>Port of Subs</td>\n",
       "      <td>[Sandwiches, Restaurants, Delis]</td>\n",
       "    </tr>\n",
       "    <tr>\n",
       "      <th>5121</th>\n",
       "      <td>Jack In the Box</td>\n",
       "      <td>[Fast Food, Burgers, Restaurants]</td>\n",
       "    </tr>\n",
       "    <tr>\n",
       "      <th>5183</th>\n",
       "      <td>Rolling in Dough Cafe</td>\n",
       "      <td>[Bakeries, Desserts, Restaurants, Coffee &amp; Tea...</td>\n",
       "    </tr>\n",
       "  </tbody>\n",
       "</table>\n",
       "</div>"
      ],
      "text/plain": [
       "                                     name  \\\n",
       "169          Serrano's Mexican Restaurant   \n",
       "252   Forte European Tapas Bar and Bistro   \n",
       "958                       Those Guys Pies   \n",
       "1785                       Tacos El Gordo   \n",
       "1883                            La Papaya   \n",
       "1952                   Taco San Francisco   \n",
       "2139                   Outback Steakhouse   \n",
       "2436                         Port of Subs   \n",
       "2438                               Subway   \n",
       "2533                Tacos El Burrito Loco   \n",
       "2719                         Port of Subs   \n",
       "2884                  Vegas Express Sushi   \n",
       "3074                             Del Taco   \n",
       "3164                               Subway   \n",
       "3510                            OMG Sushi   \n",
       "3602      Anthony's New York Pizza & Deli   \n",
       "4610                         Port of Subs   \n",
       "4675                         Port of Subs   \n",
       "5121                      Jack In the Box   \n",
       "5183                Rolling in Dough Cafe   \n",
       "\n",
       "                                             categories  \n",
       "169                              [Restaurants, Mexican]  \n",
       "252       [Ukrainian, Tapas Bars, Restaurants, Spanish]  \n",
       "958   [Restaurants, Cheesesteaks, American (New), Sa...  \n",
       "1785                             [Mexican, Restaurants]  \n",
       "1883  [Food, Juice Bars & Smoothies, Delis, Restaura...  \n",
       "1952          [Mexican, Food, Food Trucks, Restaurants]  \n",
       "2139                         [Restaurants, Steakhouses]  \n",
       "2436                   [Restaurants, Sandwiches, Delis]  \n",
       "2438               [Fast Food, Sandwiches, Restaurants]  \n",
       "2533                             [Restaurants, Mexican]  \n",
       "2719                   [Restaurants, Sandwiches, Delis]  \n",
       "2884           [Sushi Bars, Grocery, Food, Restaurants]  \n",
       "3074                             [Mexican, Restaurants]  \n",
       "3164               [Restaurants, Sandwiches, Fast Food]  \n",
       "3510                          [Sushi Bars, Restaurants]  \n",
       "3602                  [Restaurants, Pizza, Food, Delis]  \n",
       "4610                   [Restaurants, Sandwiches, Delis]  \n",
       "4675                   [Sandwiches, Restaurants, Delis]  \n",
       "5121                  [Fast Food, Burgers, Restaurants]  \n",
       "5183  [Bakeries, Desserts, Restaurants, Coffee & Tea...  "
      ]
     },
     "execution_count": 57,
     "metadata": {},
     "output_type": "execute_result"
    }
   ],
   "source": [
    "# recommended restaurants for user#1\n",
    "recom_filter = business_df[\"business_id\"].apply(lambda x: x in gl_recom_business)\n",
    "business_df[recom_filter][[\"name\", \"categories\"]]"
   ]
  },
  {
   "cell_type": "markdown",
   "metadata": {},
   "source": [
    "The recommended items are  different between item-item similary recommender and matrix factorization recommender from graphlab. In the item-item similary recommender, the similariy determined by cosine distance may have an effect on the true similarity. The result could be different using other similarity metric. \n",
    "\n",
    "The matrix factorization model decomposed the original utility matrix into matrices with latent features. By choosing 10 and 100 latent features, the recommendation is not very different, indicating that the latent features can capture the variance in the utility matrix well. \n",
    "\n",
    "Overall, the recommended restaurants in both recommenders are quite similar and share the same type of food, such as Sushi, sandwiches, fast food and taco"
   ]
  },
  {
   "cell_type": "markdown",
   "metadata": {},
   "source": [
    "## 4. Other recommenders (optional)\n",
    "\n",
    "What are other ways you can build a better recommender?\n",
    "\n",
    "* Other features (have you noticed there are other features in the Yelp dataset, e.g. tips, etc.?)\n",
    "* Popularity-based\n",
    "* Content-based\n",
    "* Hybrid"
   ]
  },
  {
   "cell_type": "markdown",
   "metadata": {
    "collapsed": true
   },
   "source": [
    "To explore other recommenders, i.e. popularity-based and content-based, we need to construct features for each item. These features can include restaurant type, location, expensive level, stars, etc. After constructing the item profiles, we can calculate item similary based these features. With that, we can recommend similar restaurant to users based on their preference/rating"
   ]
  }
 ],
 "metadata": {
  "anaconda-cloud": {},
  "kernelspec": {
   "display_name": "Python 2",
   "language": "python",
   "name": "python2"
  },
  "language_info": {
   "codemirror_mode": {
    "name": "ipython",
    "version": 2
   },
   "file_extension": ".py",
   "mimetype": "text/x-python",
   "name": "python",
   "nbconvert_exporter": "python",
   "pygments_lexer": "ipython2",
   "version": "2.7.11"
  }
 },
 "nbformat": 4,
 "nbformat_minor": 1
}
