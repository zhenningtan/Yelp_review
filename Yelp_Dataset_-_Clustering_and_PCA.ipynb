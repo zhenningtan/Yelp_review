{
 "cells": [
  {
   "cell_type": "markdown",
   "metadata": {},
   "source": [
    "# Yelp Data Challenge - Clustering and PCA\n",
    "\n",
    "Zhenning Tan 6/22/2017"
   ]
  },
  {
   "cell_type": "code",
   "execution_count": 19,
   "metadata": {
    "collapsed": true
   },
   "outputs": [],
   "source": [
    "import pandas as pd\n",
    "import numpy as np\n",
    "import matplotlib.pyplot as plt\n",
    "% matplotlib inline\n",
    "plt.style.use(\"ggplot\")"
   ]
  },
  {
   "cell_type": "code",
   "execution_count": 20,
   "metadata": {
    "collapsed": true
   },
   "outputs": [],
   "source": [
    "df = pd.read_csv('yelp_dataset_challenge_round9/last_2_years_restaurant_reviews.csv')"
   ]
  },
  {
   "cell_type": "code",
   "execution_count": 21,
   "metadata": {},
   "outputs": [
    {
     "data": {
      "text/html": [
       "<div>\n",
       "<table border=\"1\" class=\"dataframe\">\n",
       "  <thead>\n",
       "    <tr style=\"text-align: right;\">\n",
       "      <th></th>\n",
       "      <th>business_id</th>\n",
       "      <th>name</th>\n",
       "      <th>categories</th>\n",
       "      <th>ave_stars</th>\n",
       "      <th>cool</th>\n",
       "      <th>date</th>\n",
       "      <th>funny</th>\n",
       "      <th>review_id</th>\n",
       "      <th>stars</th>\n",
       "      <th>text</th>\n",
       "      <th>type</th>\n",
       "      <th>useful</th>\n",
       "      <th>user_id</th>\n",
       "    </tr>\n",
       "  </thead>\n",
       "  <tbody>\n",
       "    <tr>\n",
       "      <th>0</th>\n",
       "      <td>--9e1ONYQuAa-CB_Rrw7Tw</td>\n",
       "      <td>Delmonico Steakhouse</td>\n",
       "      <td>[Steakhouses, Restaurants, Cajun/Creole]</td>\n",
       "      <td>4.0</td>\n",
       "      <td>0</td>\n",
       "      <td>2016-07-28</td>\n",
       "      <td>0</td>\n",
       "      <td>iHP55csZHjPGqOMwIo70qQ</td>\n",
       "      <td>5</td>\n",
       "      <td>Exceptional...exceptional steakhouse!! Ordered...</td>\n",
       "      <td>review</td>\n",
       "      <td>0</td>\n",
       "      <td>TU5j2S_Ub__ojLOpD_UepQ</td>\n",
       "    </tr>\n",
       "    <tr>\n",
       "      <th>1</th>\n",
       "      <td>--9e1ONYQuAa-CB_Rrw7Tw</td>\n",
       "      <td>Delmonico Steakhouse</td>\n",
       "      <td>[Steakhouses, Restaurants, Cajun/Creole]</td>\n",
       "      <td>4.0</td>\n",
       "      <td>0</td>\n",
       "      <td>2016-07-17</td>\n",
       "      <td>0</td>\n",
       "      <td>GWI2xpBBwxK9-w1etLz51A</td>\n",
       "      <td>5</td>\n",
       "      <td>In a city with overrated 'celebrity' steakhous...</td>\n",
       "      <td>review</td>\n",
       "      <td>0</td>\n",
       "      <td>OC_WdUmY2fK-c1SD4JqSsw</td>\n",
       "    </tr>\n",
       "    <tr>\n",
       "      <th>2</th>\n",
       "      <td>--9e1ONYQuAa-CB_Rrw7Tw</td>\n",
       "      <td>Delmonico Steakhouse</td>\n",
       "      <td>[Steakhouses, Restaurants, Cajun/Creole]</td>\n",
       "      <td>4.0</td>\n",
       "      <td>0</td>\n",
       "      <td>2016-10-30</td>\n",
       "      <td>0</td>\n",
       "      <td>CyZFXdnTCgpnKHNtIiKvaQ</td>\n",
       "      <td>3</td>\n",
       "      <td>The service was great. The appetizer bread was...</td>\n",
       "      <td>review</td>\n",
       "      <td>0</td>\n",
       "      <td>A6zYXofgFj6UhonFPrEDHw</td>\n",
       "    </tr>\n",
       "    <tr>\n",
       "      <th>3</th>\n",
       "      <td>--9e1ONYQuAa-CB_Rrw7Tw</td>\n",
       "      <td>Delmonico Steakhouse</td>\n",
       "      <td>[Steakhouses, Restaurants, Cajun/Creole]</td>\n",
       "      <td>4.0</td>\n",
       "      <td>0</td>\n",
       "      <td>2016-08-08</td>\n",
       "      <td>0</td>\n",
       "      <td>QxE_WJYBMsgzPk9ZBJ6bgA</td>\n",
       "      <td>5</td>\n",
       "      <td>Great service, great food, great environment. ...</td>\n",
       "      <td>review</td>\n",
       "      <td>0</td>\n",
       "      <td>WHT6g24E7_B9aZiKgUgB6Q</td>\n",
       "    </tr>\n",
       "    <tr>\n",
       "      <th>4</th>\n",
       "      <td>--9e1ONYQuAa-CB_Rrw7Tw</td>\n",
       "      <td>Delmonico Steakhouse</td>\n",
       "      <td>[Steakhouses, Restaurants, Cajun/Creole]</td>\n",
       "      <td>4.0</td>\n",
       "      <td>0</td>\n",
       "      <td>2016-10-15</td>\n",
       "      <td>0</td>\n",
       "      <td>gvvuzwPWHuRdKVv-P6OTRw</td>\n",
       "      <td>5</td>\n",
       "      <td>We were served chicken skewers, prosciutto, an...</td>\n",
       "      <td>review</td>\n",
       "      <td>0</td>\n",
       "      <td>Cn8UFE9uvIt-yFnASEmJnQ</td>\n",
       "    </tr>\n",
       "  </tbody>\n",
       "</table>\n",
       "</div>"
      ],
      "text/plain": [
       "              business_id                  name  \\\n",
       "0  --9e1ONYQuAa-CB_Rrw7Tw  Delmonico Steakhouse   \n",
       "1  --9e1ONYQuAa-CB_Rrw7Tw  Delmonico Steakhouse   \n",
       "2  --9e1ONYQuAa-CB_Rrw7Tw  Delmonico Steakhouse   \n",
       "3  --9e1ONYQuAa-CB_Rrw7Tw  Delmonico Steakhouse   \n",
       "4  --9e1ONYQuAa-CB_Rrw7Tw  Delmonico Steakhouse   \n",
       "\n",
       "                                 categories  ave_stars  cool        date  \\\n",
       "0  [Steakhouses, Restaurants, Cajun/Creole]        4.0     0  2016-07-28   \n",
       "1  [Steakhouses, Restaurants, Cajun/Creole]        4.0     0  2016-07-17   \n",
       "2  [Steakhouses, Restaurants, Cajun/Creole]        4.0     0  2016-10-30   \n",
       "3  [Steakhouses, Restaurants, Cajun/Creole]        4.0     0  2016-08-08   \n",
       "4  [Steakhouses, Restaurants, Cajun/Creole]        4.0     0  2016-10-15   \n",
       "\n",
       "   funny               review_id  stars  \\\n",
       "0      0  iHP55csZHjPGqOMwIo70qQ      5   \n",
       "1      0  GWI2xpBBwxK9-w1etLz51A      5   \n",
       "2      0  CyZFXdnTCgpnKHNtIiKvaQ      3   \n",
       "3      0  QxE_WJYBMsgzPk9ZBJ6bgA      5   \n",
       "4      0  gvvuzwPWHuRdKVv-P6OTRw      5   \n",
       "\n",
       "                                                text    type  useful  \\\n",
       "0  Exceptional...exceptional steakhouse!! Ordered...  review       0   \n",
       "1  In a city with overrated 'celebrity' steakhous...  review       0   \n",
       "2  The service was great. The appetizer bread was...  review       0   \n",
       "3  Great service, great food, great environment. ...  review       0   \n",
       "4  We were served chicken skewers, prosciutto, an...  review       0   \n",
       "\n",
       "                  user_id  \n",
       "0  TU5j2S_Ub__ojLOpD_UepQ  \n",
       "1  OC_WdUmY2fK-c1SD4JqSsw  \n",
       "2  A6zYXofgFj6UhonFPrEDHw  \n",
       "3  WHT6g24E7_B9aZiKgUgB6Q  \n",
       "4  Cn8UFE9uvIt-yFnASEmJnQ  "
      ]
     },
     "execution_count": 21,
     "metadata": {},
     "output_type": "execute_result"
    }
   ],
   "source": [
    "df.head()"
   ]
  },
  {
   "cell_type": "markdown",
   "metadata": {},
   "source": [
    "## 1. Cluster the review text data for all the restaurants"
   ]
  },
  {
   "cell_type": "markdown",
   "metadata": {},
   "source": [
    "### Define your feature variables, here is the text of the review"
   ]
  },
  {
   "cell_type": "code",
   "execution_count": 22,
   "metadata": {
    "collapsed": true
   },
   "outputs": [],
   "source": [
    "# Take the values of the column that contains review text data, save to a variable named \"documents\"\n",
    "documents = df[\"text\"]"
   ]
  },
  {
   "cell_type": "markdown",
   "metadata": {},
   "source": [
    "### Define your target variable (any categorical variable that may be meaningful)"
   ]
  },
  {
   "cell_type": "markdown",
   "metadata": {},
   "source": [
    "#### For example, I am interested in perfect (5 stars) and imperfect (1-4 stars) rating"
   ]
  },
  {
   "cell_type": "code",
   "execution_count": 23,
   "metadata": {},
   "outputs": [],
   "source": [
    "# Make a column and take the values, save to a variable named \"target\"\n",
    "target = (df[\"stars\"] ==5).astype(int)"
   ]
  },
  {
   "cell_type": "markdown",
   "metadata": {},
   "source": [
    "#### You may want to look at the statistic of the target variable"
   ]
  },
  {
   "cell_type": "code",
   "execution_count": 24,
   "metadata": {},
   "outputs": [
    {
     "data": {
      "text/plain": [
       "0    56928\n",
       "1    54620\n",
       "Name: stars, dtype: int64"
      ]
     },
     "execution_count": 24,
     "metadata": {},
     "output_type": "execute_result"
    }
   ],
   "source": [
    "# To be implemented\n",
    "target.value_counts()"
   ]
  },
  {
   "cell_type": "markdown",
   "metadata": {},
   "source": [
    "### Create training dataset and test dataset"
   ]
  },
  {
   "cell_type": "code",
   "execution_count": 25,
   "metadata": {},
   "outputs": [],
   "source": [
    "from sklearn.cross_validation import train_test_split"
   ]
  },
  {
   "cell_type": "code",
   "execution_count": 26,
   "metadata": {
    "collapsed": true
   },
   "outputs": [],
   "source": [
    "# documents is your X, target is your y\n",
    "# Now split the data to training set and test set\n",
    "# You may want to start with a big \"test_size\", since large training set can easily crash your laptop.\n",
    "x_train, x_test, y_train, y_test = train_test_split(documents, target, test_size = 0.1, random_state=100)"
   ]
  },
  {
   "cell_type": "markdown",
   "metadata": {},
   "source": [
    "### Get NLP representation of the documents\n",
    "\n",
    "#### Fit TfidfVectorizer with training data only, then tranform all the data to tf-idf"
   ]
  },
  {
   "cell_type": "code",
   "execution_count": 27,
   "metadata": {
    "collapsed": true
   },
   "outputs": [],
   "source": [
    "from sklearn.feature_extraction.text import TfidfVectorizer"
   ]
  },
  {
   "cell_type": "code",
   "execution_count": 28,
   "metadata": {
    "collapsed": true
   },
   "outputs": [],
   "source": [
    "# Create TfidfVectorizer, and name it vectorizer, choose a reasonable max_features, e.g. 1000\n",
    "vectorizer = TfidfVectorizer(max_features = 1000, stop_words = \"english\")"
   ]
  },
  {
   "cell_type": "code",
   "execution_count": 29,
   "metadata": {
    "collapsed": true
   },
   "outputs": [],
   "source": [
    "# Train the model with your training data\n",
    "vec_train = vectorizer.fit_transform(x_train)"
   ]
  },
  {
   "cell_type": "code",
   "execution_count": 30,
   "metadata": {},
   "outputs": [],
   "source": [
    "# Get the vocab of your tfidf\n",
    "vocab = vectorizer.get_feature_names()"
   ]
  },
  {
   "cell_type": "code",
   "execution_count": 31,
   "metadata": {},
   "outputs": [],
   "source": [
    "# Use the trained model to transform all the reviews\n",
    "vec_doc = vectorizer.transform(documents)"
   ]
  },
  {
   "cell_type": "markdown",
   "metadata": {},
   "source": [
    "### Cluster reviews with KMeans"
   ]
  },
  {
   "cell_type": "markdown",
   "metadata": {},
   "source": [
    "#### Fit k-means clustering with the training vectors and apply it on all the data"
   ]
  },
  {
   "cell_type": "code",
   "execution_count": 32,
   "metadata": {},
   "outputs": [
    {
     "data": {
      "text/plain": [
       "KMeans(copy_x=True, init='k-means++', max_iter=300, n_clusters=5, n_init=10,\n",
       "    n_jobs=1, precompute_distances='auto', random_state=100, tol=0.0001,\n",
       "    verbose=0)"
      ]
     },
     "execution_count": 32,
     "metadata": {},
     "output_type": "execute_result"
    }
   ],
   "source": [
    "# To be implemented\n",
    "from sklearn.cluster import KMeans\n",
    "kmeans = KMeans(n_clusters = 5, random_state = 100) # use 5 clusters since there are 5 stars\n",
    "kmeans.fit(vec_train)"
   ]
  },
  {
   "cell_type": "markdown",
   "metadata": {},
   "source": [
    "#### Make predictions on all your data"
   ]
  },
  {
   "cell_type": "code",
   "execution_count": 33,
   "metadata": {},
   "outputs": [
    {
     "data": {
      "text/plain": [
       "array([4, 4, 1, ..., 4, 3, 4])"
      ]
     },
     "execution_count": 33,
     "metadata": {},
     "output_type": "execute_result"
    }
   ],
   "source": [
    "# To be implemented\n",
    "kmeans.predict(vec_doc)"
   ]
  },
  {
   "cell_type": "markdown",
   "metadata": {},
   "source": [
    "#### Inspect the centroids\n",
    "To find out what \"topics\" Kmeans has discovered we must inspect the centroids. Print out the centroids of the Kmeans clustering.\n",
    "\n",
    "   These centroids are simply a bunch of vectors.  To make any sense of them we need to map these vectors back into our 'word space'.  Think of each feature/dimension of the centroid vector as representing the \"average\" review or the average occurances of words for that cluster."
   ]
  },
  {
   "cell_type": "code",
   "execution_count": 34,
   "metadata": {
    "collapsed": true
   },
   "outputs": [],
   "source": [
    "# To be implemented\n",
    "centers = kmeans.cluster_centers_"
   ]
  },
  {
   "cell_type": "markdown",
   "metadata": {},
   "source": [
    "#### Find the top 10 features for each cluster.\n",
    "For topics we are only really interested in the most present words, i.e. features/dimensions with the greatest representation in the centroid.  Print out the top ten words for each centroid.\n",
    "\n",
    "* Sort each centroid vector to find the top 10 features\n",
    "* Go back to your vectorizer object to find out what words each of these features corresponds to.\n"
   ]
  },
  {
   "cell_type": "code",
   "execution_count": 35,
   "metadata": {},
   "outputs": [
    {
     "name": "stdout",
     "output_type": "stream",
     "text": [
      "Top features for each centroid:\n",
      "Cluster 0: food, order, just, service, time, minutes, like, place, don, came\n",
      "Cluster 1: good, chicken, food, like, really, ordered, place, just, burger, got\n",
      "Cluster 2: pizza, crust, good, place, great, slice, cheese, best, just, order\n",
      "Cluster 3: great, food, service, place, good, amazing, awesome, definitely, friendly, atmosphere\n",
      "Cluster 4: place, food, best, amazing, vegas, love, service, sushi, delicious, friendly\n"
     ]
    }
   ],
   "source": [
    "# To be implemented\n",
    "top_centroids = centers.argsort(axis =1)[:,-1:-11:-1]\n",
    "\n",
    "print \"Top features for each centroid:\"\n",
    "for num, centroid in enumerate(top_centroids):\n",
    "    print \"Cluster %d: %s\" % (num, \", \".join(vocab[i] for i in centroid))"
   ]
  },
  {
   "cell_type": "markdown",
   "metadata": {},
   "source": [
    "#### Try different k\n",
    "If you set k == to a different number, how does the top features change?"
   ]
  },
  {
   "cell_type": "code",
   "execution_count": 36,
   "metadata": {},
   "outputs": [
    {
     "name": "stdout",
     "output_type": "stream",
     "text": [
      "Top features for each centroid in 2 nearest neighbors:\n",
      "Cluster 0: good, food, place, like, just, time, ordered, service, order, really\n",
      "\n",
      "Cluster 1: great, food, service, place, amazing, best, love, good, friendly, vegas\n",
      "\n",
      "Top features for each centroid in 3 nearest neighbors:\n",
      "Cluster 0: great, food, service, place, amazing, friendly, good, love, staff, awesome\n",
      "\n",
      "Cluster 1: good, place, food, chicken, like, vegas, really, best, delicious, just\n",
      "\n",
      "Cluster 2: pizza, food, order, time, just, service, minutes, place, like, came\n",
      "\n",
      "Top features for each centroid in 4 nearest neighbors:\n",
      "Cluster 0: great, food, service, place, amazing, good, friendly, awesome, definitely, love\n",
      "\n",
      "Cluster 1: good, place, food, chicken, best, vegas, like, delicious, really, service\n",
      "\n",
      "Cluster 2: food, order, time, just, service, like, minutes, came, didn, place\n",
      "\n",
      "Cluster 3: pizza, crust, good, place, great, slice, cheese, best, just, service\n",
      "\n",
      "Top features for each centroid in 5 nearest neighbors:\n",
      "Cluster 0: food, order, just, service, time, minutes, like, place, don, came\n",
      "\n",
      "Cluster 1: good, chicken, food, like, really, ordered, place, just, burger, got\n",
      "\n",
      "Cluster 2: pizza, crust, good, place, great, slice, cheese, best, just, order\n",
      "\n",
      "Cluster 3: great, food, service, place, good, amazing, awesome, definitely, friendly, atmosphere\n",
      "\n",
      "Cluster 4: place, food, best, amazing, vegas, love, service, sushi, delicious, friendly\n",
      "\n"
     ]
    }
   ],
   "source": [
    "# To be implemented\n",
    "k_num = [2, 3, 4, 5]\n",
    "\n",
    "for k in k_num: \n",
    "    kmeans = KMeans(n_clusters = k, random_state = 100)\n",
    "    kmeans.fit(vec_train)\n",
    "    centers = kmeans.cluster_centers_\n",
    "    top_centroids = centers.argsort(axis =1)[:,-1:-11:-1]\n",
    "    print \"Top features for each centroid in %d nearest neighbors:\" % k\n",
    "    for num, centroid in enumerate(top_centroids):\n",
    "        print \"Cluster %d: %s\" % (num, \", \".join(vocab[i] for i in centroid))\n",
    "        print \"\""
   ]
  },
  {
   "cell_type": "markdown",
   "metadata": {},
   "source": [
    "#### Print out the rating and review of a random sample of the reviews assigned to each cluster to get a sense of the cluster."
   ]
  },
  {
   "cell_type": "code",
   "execution_count": 37,
   "metadata": {},
   "outputs": [
    {
     "name": "stdout",
     "output_type": "stream",
     "text": [
      "A random review from Cluster 0\n",
      "star rating: 1\n",
      "I don't know what happened to this place over the last 6 months??????? Horrible service with rude waitress and food took forever to come to the table. Every piece of shushi was soaked with nasty tasting sauce. I  am very disappointed that I wasted my time and 100 on gross food.\n",
      "\n",
      "A random review from Cluster 1\n",
      "star rating: 3\n",
      "The staff member who took my order was very friendly and my order didn't take too long. I got the Hokkaido milk tea with honey boba and I really wanted to like it but compared to another tea place I frequent, it didn't taste quite as good. But the honey boba was delicious served warm and the texture was almost perfect and I would have to say my favorite boba in town. I will be back to try the other menu items. \r\n",
      "\r\n",
      "Don't get the taro milk tea. It was very disappointing. It was very gritty and just tasted like watered down milk with no taro\n",
      "\n",
      "A random review from Cluster 2\n",
      "star rating: 5\n",
      "Love love this place! It's right by the new LVAC gym on Decatur and I've always been Fascinated to try but hesitant due to my \"healthy\" lifestyle. But this place is pretty legit. You can even have yourself a gluten free pizza! not that I went that route but if one wanted to you can.\r\n",
      "\r\n",
      "I was pretty surprised that you can have unlimited toppings for only about $8. It's a self pizza but me and the beau shared one and I left satisfied. The toppings seemed fresh. They make the pizza and than it takes about 8-10 minutes and it's done. Fresh and bomb!\r\n",
      "\r\n",
      "We topped our pizzas half and half. I was able to put my own toppings on one half of the pizza while the beau did his thing on the other half. And it's thin crust.. My favorite. You can also get a \"rising crust\" if you wanted to.\r\n",
      "\r\n",
      "Can't wait to come back.\n",
      "\n",
      "A random review from Cluster 3\n",
      "star rating: 5\n",
      "Awesome food. Clean restaurant and great service. The place to try the best Pinoy food.\n",
      "\n",
      "A random review from Cluster 4\n",
      "star rating: 3\n",
      "This place was one of the most anticipated places to visit when in Las Vegas. I said was because the last time we went back (July 2016), it was very disappointing. I was looking forward for their delicious adobada, it was not the case unfortunately. Not sure what happened, but it was bland and didn't taste as nearly as tasty as it was a year and a half ago. Neither was the grilled green onion and jalapeno. The carne asada tasted better this time though. Very disappointing.\n",
      "\n"
     ]
    }
   ],
   "source": [
    "# To be implemented\n",
    "assigned_cluster = kmeans.predict(vec_doc)\n",
    "k=5 # use k =5 as an example: \n",
    "\n",
    "for i in range(k):\n",
    "    cluster = np.arange(vec_doc.shape[0])[assigned_cluster ==i]\n",
    "    sample_ind = np.random.choice(cluster)\n",
    "    print \"A random review from Cluster %d\" % i\n",
    "    print \"star rating:\", df.ix[sample_ind][\"stars\"]\n",
    "    print df.ix[sample_ind][\"text\"]\n",
    "    print \"\""
   ]
  },
  {
   "cell_type": "markdown",
   "metadata": {},
   "source": [
    "## 2. Cluster all the reviews of the most reviewed restaurant\n",
    "Let's find the most reviewed restaurant and analyze its reviews"
   ]
  },
  {
   "cell_type": "code",
   "execution_count": 38,
   "metadata": {},
   "outputs": [
    {
     "data": {
      "text/html": [
       "<div>\n",
       "<table border=\"1\" class=\"dataframe\">\n",
       "  <thead>\n",
       "    <tr style=\"text-align: right;\">\n",
       "      <th></th>\n",
       "      <th>business_id</th>\n",
       "      <th>name</th>\n",
       "      <th>categories</th>\n",
       "      <th>ave_stars</th>\n",
       "      <th>cool</th>\n",
       "      <th>date</th>\n",
       "      <th>funny</th>\n",
       "      <th>review_id</th>\n",
       "      <th>stars</th>\n",
       "      <th>text</th>\n",
       "      <th>type</th>\n",
       "      <th>useful</th>\n",
       "      <th>user_id</th>\n",
       "    </tr>\n",
       "  </thead>\n",
       "  <tbody>\n",
       "    <tr>\n",
       "      <th>82697</th>\n",
       "      <td>hihud--QRriCYZw1zZvW4g</td>\n",
       "      <td>Gangnam Asian BBQ Dining</td>\n",
       "      <td>[Korean, Japanese, Restaurants, Tapas/Small Pl...</td>\n",
       "      <td>4.5</td>\n",
       "      <td>0</td>\n",
       "      <td>2016-10-01</td>\n",
       "      <td>0</td>\n",
       "      <td>xgeXscn1gdG5I9w-p2tqig</td>\n",
       "      <td>5</td>\n",
       "      <td>Excellent food with great service that's near ...</td>\n",
       "      <td>review</td>\n",
       "      <td>1</td>\n",
       "      <td>mtGw8bQTQToVR_1KWD7F7A</td>\n",
       "    </tr>\n",
       "    <tr>\n",
       "      <th>82698</th>\n",
       "      <td>hihud--QRriCYZw1zZvW4g</td>\n",
       "      <td>Gangnam Asian BBQ Dining</td>\n",
       "      <td>[Korean, Japanese, Restaurants, Tapas/Small Pl...</td>\n",
       "      <td>4.5</td>\n",
       "      <td>0</td>\n",
       "      <td>2016-08-20</td>\n",
       "      <td>0</td>\n",
       "      <td>jHeg2v19v4RsN2UnDlCsFQ</td>\n",
       "      <td>5</td>\n",
       "      <td>We were in town for the weekend and really enj...</td>\n",
       "      <td>review</td>\n",
       "      <td>0</td>\n",
       "      <td>RVGxGRTnVOeCLMPT4JAYuw</td>\n",
       "    </tr>\n",
       "    <tr>\n",
       "      <th>82699</th>\n",
       "      <td>hihud--QRriCYZw1zZvW4g</td>\n",
       "      <td>Gangnam Asian BBQ Dining</td>\n",
       "      <td>[Korean, Japanese, Restaurants, Tapas/Small Pl...</td>\n",
       "      <td>4.5</td>\n",
       "      <td>0</td>\n",
       "      <td>2016-11-11</td>\n",
       "      <td>0</td>\n",
       "      <td>G6EpvRrtUbzxUVzyk8qsAw</td>\n",
       "      <td>5</td>\n",
       "      <td>Wow!!!this restaurant is on my top five best, ...</td>\n",
       "      <td>review</td>\n",
       "      <td>0</td>\n",
       "      <td>TIFzeoY3JqWmZjFBbeOYiw</td>\n",
       "    </tr>\n",
       "    <tr>\n",
       "      <th>82700</th>\n",
       "      <td>hihud--QRriCYZw1zZvW4g</td>\n",
       "      <td>Gangnam Asian BBQ Dining</td>\n",
       "      <td>[Korean, Japanese, Restaurants, Tapas/Small Pl...</td>\n",
       "      <td>4.5</td>\n",
       "      <td>0</td>\n",
       "      <td>2016-10-15</td>\n",
       "      <td>0</td>\n",
       "      <td>j_skfznARdMJvzWG1hy38w</td>\n",
       "      <td>4</td>\n",
       "      <td>This was our first meal in Vegas and really, n...</td>\n",
       "      <td>review</td>\n",
       "      <td>1</td>\n",
       "      <td>INPppZR6jwq_oR5u88ObuA</td>\n",
       "    </tr>\n",
       "    <tr>\n",
       "      <th>82701</th>\n",
       "      <td>hihud--QRriCYZw1zZvW4g</td>\n",
       "      <td>Gangnam Asian BBQ Dining</td>\n",
       "      <td>[Korean, Japanese, Restaurants, Tapas/Small Pl...</td>\n",
       "      <td>4.5</td>\n",
       "      <td>0</td>\n",
       "      <td>2016-08-19</td>\n",
       "      <td>0</td>\n",
       "      <td>O5QVoQkGNpLSeaB_u7p3Rg</td>\n",
       "      <td>5</td>\n",
       "      <td>I'm never disappointed whenever I dine here. M...</td>\n",
       "      <td>review</td>\n",
       "      <td>0</td>\n",
       "      <td>CXzDMPKfGqZUw-jefNrbCA</td>\n",
       "    </tr>\n",
       "  </tbody>\n",
       "</table>\n",
       "</div>"
      ],
      "text/plain": [
       "                  business_id                      name  \\\n",
       "82697  hihud--QRriCYZw1zZvW4g  Gangnam Asian BBQ Dining   \n",
       "82698  hihud--QRriCYZw1zZvW4g  Gangnam Asian BBQ Dining   \n",
       "82699  hihud--QRriCYZw1zZvW4g  Gangnam Asian BBQ Dining   \n",
       "82700  hihud--QRriCYZw1zZvW4g  Gangnam Asian BBQ Dining   \n",
       "82701  hihud--QRriCYZw1zZvW4g  Gangnam Asian BBQ Dining   \n",
       "\n",
       "                                              categories  ave_stars  cool  \\\n",
       "82697  [Korean, Japanese, Restaurants, Tapas/Small Pl...        4.5     0   \n",
       "82698  [Korean, Japanese, Restaurants, Tapas/Small Pl...        4.5     0   \n",
       "82699  [Korean, Japanese, Restaurants, Tapas/Small Pl...        4.5     0   \n",
       "82700  [Korean, Japanese, Restaurants, Tapas/Small Pl...        4.5     0   \n",
       "82701  [Korean, Japanese, Restaurants, Tapas/Small Pl...        4.5     0   \n",
       "\n",
       "             date  funny               review_id  stars  \\\n",
       "82697  2016-10-01      0  xgeXscn1gdG5I9w-p2tqig      5   \n",
       "82698  2016-08-20      0  jHeg2v19v4RsN2UnDlCsFQ      5   \n",
       "82699  2016-11-11      0  G6EpvRrtUbzxUVzyk8qsAw      5   \n",
       "82700  2016-10-15      0  j_skfznARdMJvzWG1hy38w      4   \n",
       "82701  2016-08-19      0  O5QVoQkGNpLSeaB_u7p3Rg      5   \n",
       "\n",
       "                                                    text    type  useful  \\\n",
       "82697  Excellent food with great service that's near ...  review       1   \n",
       "82698  We were in town for the weekend and really enj...  review       0   \n",
       "82699  Wow!!!this restaurant is on my top five best, ...  review       0   \n",
       "82700  This was our first meal in Vegas and really, n...  review       1   \n",
       "82701  I'm never disappointed whenever I dine here. M...  review       0   \n",
       "\n",
       "                      user_id  \n",
       "82697  mtGw8bQTQToVR_1KWD7F7A  \n",
       "82698  RVGxGRTnVOeCLMPT4JAYuw  \n",
       "82699  TIFzeoY3JqWmZjFBbeOYiw  \n",
       "82700  INPppZR6jwq_oR5u88ObuA  \n",
       "82701  CXzDMPKfGqZUw-jefNrbCA  "
      ]
     },
     "execution_count": 38,
     "metadata": {},
     "output_type": "execute_result"
    }
   ],
   "source": [
    "# Find the business who got most reviews, get your filtered df, name it df_top_restaurant\n",
    "top_restaurant = df[\"business_id\"].value_counts().argmax()\n",
    "df_top_restaurant = df[df[\"business_id\"] == top_restaurant]\n",
    "df_top_restaurant.reset_index()\n",
    "df_top_restaurant.head()"
   ]
  },
  {
   "cell_type": "markdown",
   "metadata": {},
   "source": [
    "We can also load restaurant profile information from the business dataset (optional)"
   ]
  },
  {
   "cell_type": "code",
   "execution_count": 39,
   "metadata": {},
   "outputs": [
    {
     "data": {
      "text/html": [
       "<div>\n",
       "<table border=\"1\" class=\"dataframe\">\n",
       "  <thead>\n",
       "    <tr style=\"text-align: right;\">\n",
       "      <th></th>\n",
       "      <th>business_id</th>\n",
       "      <th>name</th>\n",
       "      <th>categories</th>\n",
       "      <th>ave_stars</th>\n",
       "    </tr>\n",
       "  </thead>\n",
       "  <tbody>\n",
       "    <tr>\n",
       "      <th>1192</th>\n",
       "      <td>hihud--QRriCYZw1zZvW4g</td>\n",
       "      <td>Gangnam Asian BBQ Dining</td>\n",
       "      <td>[Korean, Japanese, Restaurants, Tapas/Small Pl...</td>\n",
       "      <td>4.5</td>\n",
       "    </tr>\n",
       "  </tbody>\n",
       "</table>\n",
       "</div>"
      ],
      "text/plain": [
       "                 business_id                      name  \\\n",
       "1192  hihud--QRriCYZw1zZvW4g  Gangnam Asian BBQ Dining   \n",
       "\n",
       "                                             categories  ave_stars  \n",
       "1192  [Korean, Japanese, Restaurants, Tapas/Small Pl...        4.5  "
      ]
     },
     "execution_count": 39,
     "metadata": {},
     "output_type": "execute_result"
    }
   ],
   "source": [
    "# Load business dataset (optional)\n",
    "# Take a look at the most reviewed restaurant's profile (optional)\n",
    "business = pd.read_csv('yelp_dataset_challenge_round9/selected_business.csv')\n",
    "business[business[\"business_id\"] == top_restaurant]"
   ]
  },
  {
   "cell_type": "markdown",
   "metadata": {},
   "source": [
    "### Vectorize the text feature"
   ]
  },
  {
   "cell_type": "code",
   "execution_count": 40,
   "metadata": {
    "collapsed": true
   },
   "outputs": [],
   "source": [
    "# Take the values of the column that contains review text data, save to a variable named \"documents_top_restaurant\"\n",
    "documents_top_restaurant = df_top_restaurant[\"text\"]"
   ]
  },
  {
   "cell_type": "markdown",
   "metadata": {},
   "source": [
    "### Define your target variable (for later classification use)"
   ]
  },
  {
   "cell_type": "markdown",
   "metadata": {},
   "source": [
    "#### Again, we look at perfect (5 stars) and imperfect (1-4 stars) rating"
   ]
  },
  {
   "cell_type": "code",
   "execution_count": 41,
   "metadata": {},
   "outputs": [],
   "source": [
    "# To be implemented\n",
    "target_top_restaurant = (df_top_restaurant[\"stars\"] ==5).astype(int)"
   ]
  },
  {
   "cell_type": "markdown",
   "metadata": {},
   "source": [
    "#### Check the statistic of the target variable"
   ]
  },
  {
   "cell_type": "code",
   "execution_count": 42,
   "metadata": {},
   "outputs": [
    {
     "data": {
      "text/plain": [
       "1    806\n",
       "0    229\n",
       "Name: stars, dtype: int64"
      ]
     },
     "execution_count": 42,
     "metadata": {},
     "output_type": "execute_result"
    }
   ],
   "source": [
    "# To be implemented\n",
    "target_top_restaurant.value_counts()"
   ]
  },
  {
   "cell_type": "markdown",
   "metadata": {},
   "source": [
    "### Create training dataset and test dataset"
   ]
  },
  {
   "cell_type": "code",
   "execution_count": 43,
   "metadata": {
    "collapsed": true
   },
   "outputs": [],
   "source": [
    "from sklearn.cross_validation import train_test_split"
   ]
  },
  {
   "cell_type": "code",
   "execution_count": 44,
   "metadata": {
    "collapsed": true
   },
   "outputs": [],
   "source": [
    "# documents_top_restaurant is your X, target_top_restaurant is your y\n",
    "# Now split the data to training set and test set\n",
    "# Now your data is smaller, you can use a typical \"test_size\", e.g. 0.3-0.7\n",
    "train_x_top, test_x_top, train_y_top, test_y_top = train_test_split(documents_top_restaurant, target_top_restaurant, test_size = 0.3,\n",
    "                                                   random_state =100)"
   ]
  },
  {
   "cell_type": "markdown",
   "metadata": {},
   "source": [
    "### Get NLP representation of the documents"
   ]
  },
  {
   "cell_type": "code",
   "execution_count": 45,
   "metadata": {
    "collapsed": true
   },
   "outputs": [],
   "source": [
    "from sklearn.feature_extraction.text import TfidfVectorizer"
   ]
  },
  {
   "cell_type": "code",
   "execution_count": 46,
   "metadata": {
    "collapsed": true
   },
   "outputs": [],
   "source": [
    "# Create TfidfVectorizer, and name it vectorizer\n",
    "vectorizer = TfidfVectorizer(max_features = 1000, stop_words = \"english\")"
   ]
  },
  {
   "cell_type": "code",
   "execution_count": 47,
   "metadata": {},
   "outputs": [],
   "source": [
    "# Train the model with your training data\n",
    "vec_train_top = vectorizer.fit_transform(train_x_top)"
   ]
  },
  {
   "cell_type": "code",
   "execution_count": 48,
   "metadata": {},
   "outputs": [],
   "source": [
    "# Get the vocab of your tfidf\n",
    "vocab_top = vectorizer.get_feature_names()"
   ]
  },
  {
   "cell_type": "code",
   "execution_count": 49,
   "metadata": {},
   "outputs": [],
   "source": [
    "# Use the trained model to transform the test data\n",
    "vec_test_top = vectorizer.transform(test_x_top)"
   ]
  },
  {
   "cell_type": "code",
   "execution_count": 50,
   "metadata": {},
   "outputs": [],
   "source": [
    "# Use the trained model to transform all the data\n",
    "vec_top = vectorizer.transform(documents_top_restaurant)"
   ]
  },
  {
   "cell_type": "markdown",
   "metadata": {},
   "source": [
    "### Cluster reviews with KMeans"
   ]
  },
  {
   "cell_type": "markdown",
   "metadata": {},
   "source": [
    "#### Fit k-means clustering on the training vectors and make predictions on all data"
   ]
  },
  {
   "cell_type": "code",
   "execution_count": 51,
   "metadata": {},
   "outputs": [
    {
     "data": {
      "text/plain": [
       "KMeans(copy_x=True, init='k-means++', max_iter=300, n_clusters=8, n_init=10,\n",
       "    n_jobs=1, precompute_distances='auto', random_state=100, tol=0.0001,\n",
       "    verbose=0)"
      ]
     },
     "execution_count": 51,
     "metadata": {},
     "output_type": "execute_result"
    }
   ],
   "source": [
    "# To be implemented\n",
    "kmeans_top = KMeans(n_clusters = 8, random_state = 100)\n",
    "kmeans_top.fit(vec_train_top)"
   ]
  },
  {
   "cell_type": "markdown",
   "metadata": {},
   "source": [
    "#### Make predictions on all your data"
   ]
  },
  {
   "cell_type": "code",
   "execution_count": 52,
   "metadata": {},
   "outputs": [
    {
     "data": {
      "text/plain": [
       "array([5, 2, 7, ..., 6, 6, 1])"
      ]
     },
     "execution_count": 52,
     "metadata": {},
     "output_type": "execute_result"
    }
   ],
   "source": [
    "# To be implemented\n",
    "kmeans_top.predict(vec_top)"
   ]
  },
  {
   "cell_type": "markdown",
   "metadata": {},
   "source": [
    "#### Inspect the centroids"
   ]
  },
  {
   "cell_type": "code",
   "execution_count": 53,
   "metadata": {},
   "outputs": [],
   "source": [
    "# To be implemented\n",
    "centers_top = kmeans_top.cluster_centers_"
   ]
  },
  {
   "cell_type": "markdown",
   "metadata": {},
   "source": [
    "#### Find the top 10 features for each cluster."
   ]
  },
  {
   "cell_type": "code",
   "execution_count": 54,
   "metadata": {},
   "outputs": [
    {
     "name": "stdout",
     "output_type": "stream",
     "text": [
      "Top features for each centroid:\n",
      "Cluster 0: meat, lovers, food, definitely, got, great, people, lover, ordered, service\n",
      "Cluster 1: great, food, service, delicious, place, atmosphere, experience, fun, definitely, friendly\n",
      "Cluster 2: good, food, really, service, place, price, vegas, nice, meat, korean\n",
      "Cluster 3: beef, kalbi, spicy, soup, korean, good, tender, pork, favorite, place\n",
      "Cluster 4: come, time, definitely, amazing, vegas, food, great, service, excellent, las\n",
      "Cluster 5: korean, bbq, best, place, vegas, great, food, service, ve, meat\n",
      "Cluster 6: hour, happy, great, service, food, place, come, awesome, amazing, bbq\n",
      "Cluster 7: cream, ice, free, macaron, review, great, food, dessert, macaroon, amazing\n"
     ]
    }
   ],
   "source": [
    "# To be implemented\n",
    "top_centroids_top_restaurant = centers_top.argsort(axis =1)[:,-1:-11:-1]\n",
    "\n",
    "print \"Top features for each centroid:\"\n",
    "for num, centroid in enumerate(top_centroids_top_restaurant):\n",
    "    print \"Cluster %d: %s\" % (num, \", \".join(vocab_top[i] for i in centroid))"
   ]
  },
  {
   "cell_type": "markdown",
   "metadata": {},
   "source": [
    "#### Print out the rating and review of a random sample of the reviews assigned to each cluster to get a sense of the cluster."
   ]
  },
  {
   "cell_type": "code",
   "execution_count": 55,
   "metadata": {},
   "outputs": [
    {
     "name": "stdout",
     "output_type": "stream",
     "text": [
      "A random review from Cluster 0\n",
      "star rating: 4\n",
      "Got here around 3pm. Got seated very fast. We got 2 combo for 5 people which was perfect amount. We were all very full. Good quality meat.  Woot.\n",
      "==================================\n",
      "A random review from Cluster 1\n",
      "star rating: 5\n",
      "Our new favorite place to eat in Vegas!  Great food, great service, great prices, good ambiance! What more can you ask for! Definitely coming back again.\n",
      "==================================\n",
      "A random review from Cluster 2\n",
      "star rating: 5\n",
      "We tried this place based on all the Yelp reviews, and it certainly did not disappoint!!!  We came in with a big group which included kids.  They had so much fun cooking all their food.  The portions are ample and very good.  Definitely will come back when we're back in Vegas.\n",
      "==================================\n",
      "A random review from Cluster 3\n",
      "star rating: 5\n",
      "I'm never disappointed whenever I dine here. My bf absolutely loves the kalbi stew. You can never go wrong with the spicy seafood tofu soup as well. Service is equally as awesome as the food!\n",
      "==================================\n",
      "A random review from Cluster 4\n",
      "star rating: 5\n",
      "First time here. Decided on ordering Individual items but they also offer combos. Bi bim bop was great. Served in a large stone platter to share. It was a lot for two people. Will come back.\n",
      "==================================\n",
      "A random review from Cluster 5\n",
      "star rating: 4\n",
      "So one might say Korean BBQ isn't the best EDC-recovery food but we were around the area and decided to check this place out due to the raving reviews (and also because we were tired of paying $$$ for mediocre Asian food on the strip).\r\n",
      "\r\n",
      "The wait was around 15 minutes at 1:30pm on a Monday (although the lady on the phone gave us an hour wait on the phone just 10 minutes before we arrived). We ordered spicy ramen with Japanese sausages, marinated Kalbi, Bulgogi, and thinly sliced toro. All were super delicious!\r\n",
      "\r\n",
      "Overall, very impressed by the quality of this Las Vegas Korean restaurant, I think we'll definitely be back if we're staying on the strip again. My only complaint was that it was 110 degrees outside and either the AC was broken or wasn't on strong enough but we were sweating through the meal ):\n",
      "==================================\n",
      "A random review from Cluster 6\n",
      "star rating: 5\n",
      "Delicious banchan. High quality meat and cheap prices for the quality.  We ordered the fried calamari, pork belly, beef toro, and bulgogi and loved all of it. I definitely recommend this place, especially for happy hour.\n",
      "==================================\n",
      "A random review from Cluster 7\n",
      "star rating: 5\n",
      "Server (Dave) was really nice and explained to us the portions before ordering.  We ordered the meat lover for 4 people and we had a lot of left overs with 5 people eating. Dave was honest and all the waiters/waitresses helped one another with their tables.  Great service and food.  Don't forget to leave a review for free ice cream\n",
      "==================================\n"
     ]
    }
   ],
   "source": [
    "# To be implemented\n",
    "assigned_cluster_top = kmeans_top.predict(vec_top)\n",
    "\n",
    "for i in range(kmeans_top.n_clusters):\n",
    "    cluster = df_top_restaurant.index.values[assigned_cluster_top == i]\n",
    "    sample_ind = np.random.choice(cluster, 1)\n",
    "    print \"A random review from Cluster %d\" % i\n",
    "    print \"star rating: %d\" % df_top_restaurant.ix[sample_ind][\"stars\"]\n",
    "    print df_top_restaurant.ix[sample_ind][\"text\"].values[0]\n",
    "    print \"==================================\""
   ]
  },
  {
   "cell_type": "markdown",
   "metadata": {},
   "source": [
    "## 3. Use PCA to reduce dimensionality"
   ]
  },
  {
   "cell_type": "markdown",
   "metadata": {},
   "source": [
    "### Stardardize features\n",
    "Your X_train and X_test"
   ]
  },
  {
   "cell_type": "code",
   "execution_count": 56,
   "metadata": {},
   "outputs": [],
   "source": [
    "from sklearn.preprocessing import StandardScaler\n",
    "\n",
    "# To be implemented\n",
    "scaler = StandardScaler(with_mean = False)\n",
    "train_scaled = scaler.fit_transform(vec_train_top).todense()\n",
    "test_scaled = scaler.transform(vec_test_top).todense()\n"
   ]
  },
  {
   "cell_type": "markdown",
   "metadata": {},
   "source": [
    "### Use PCA to transform data (train and test) and get princial components"
   ]
  },
  {
   "cell_type": "code",
   "execution_count": 57,
   "metadata": {},
   "outputs": [],
   "source": [
    "from sklearn.decomposition import PCA\n",
    "\n",
    "# Let's pick a n_components\n",
    "n_components = 50\n",
    "\n",
    "# To be implemented\n",
    "pca = PCA(n_components = n_components)\n",
    "train_comp = pca.fit_transform(train_scaled)\n",
    "test_comp = pca.transform(test_scaled)"
   ]
  },
  {
   "cell_type": "markdown",
   "metadata": {},
   "source": [
    "### See how much (and how much percentage of) variance the principal components explain"
   ]
  },
  {
   "cell_type": "code",
   "execution_count": 58,
   "metadata": {},
   "outputs": [
    {
     "data": {
      "text/plain": [
       "array([ 9.92154822,  6.44590037,  6.36747625,  6.27074932,  5.84048327,\n",
       "        5.72836861,  5.59609994,  5.44317619,  5.40457023,  5.28994498,\n",
       "        5.18991101,  5.16128511,  5.02565899,  4.97164341,  4.88171552,\n",
       "        4.81565091,  4.77653643,  4.73298122,  4.68345563,  4.64856511,\n",
       "        4.60490233,  4.584986  ,  4.51991916,  4.48751325,  4.4063545 ,\n",
       "        4.38927176,  4.36558177,  4.32401176,  4.30173868,  4.28411584,\n",
       "        4.24771056,  4.21125152,  4.17759342,  4.13153797,  4.11971756,\n",
       "        4.09066693,  4.04474889,  4.01993289,  3.97507546,  3.95440209,\n",
       "        3.92461682,  3.91870332,  3.88260682,  3.83456171,  3.81989312,\n",
       "        3.78154934,  3.76656381,  3.74307117,  3.73614551,  3.72996013])"
      ]
     },
     "execution_count": 58,
     "metadata": {},
     "output_type": "execute_result"
    }
   ],
   "source": [
    "# To be implemented\n",
    "pca.explained_variance_"
   ]
  },
  {
   "cell_type": "code",
   "execution_count": 59,
   "metadata": {},
   "outputs": [
    {
     "data": {
      "text/plain": [
       "array([ 0.00992155,  0.0064459 ,  0.00636748,  0.00627075,  0.00584048,\n",
       "        0.00572837,  0.0055961 ,  0.00544318,  0.00540457,  0.00528994,\n",
       "        0.00518991,  0.00516129,  0.00502566,  0.00497164,  0.00488172,\n",
       "        0.00481565,  0.00477654,  0.00473298,  0.00468346,  0.00464857,\n",
       "        0.0046049 ,  0.00458499,  0.00451992,  0.00448751,  0.00440635,\n",
       "        0.00438927,  0.00436558,  0.00432401,  0.00430174,  0.00428412,\n",
       "        0.00424771,  0.00421125,  0.00417759,  0.00413154,  0.00411972,\n",
       "        0.00409067,  0.00404475,  0.00401993,  0.00397508,  0.0039544 ,\n",
       "        0.00392462,  0.0039187 ,  0.00388261,  0.00383456,  0.00381989,\n",
       "        0.00378155,  0.00376656,  0.00374307,  0.00373615,  0.00372996])"
      ]
     },
     "execution_count": 59,
     "metadata": {},
     "output_type": "execute_result"
    }
   ],
   "source": [
    "# To be implemented\n",
    "pca.explained_variance_ratio_"
   ]
  },
  {
   "cell_type": "markdown",
   "metadata": {},
   "source": [
    "### Viz: plot proportion of variance explained with top principal components\n",
    "\n",
    "For clear display, you may start with plotting <=20 principal components"
   ]
  },
  {
   "cell_type": "code",
   "execution_count": 60,
   "metadata": {
    "collapsed": true
   },
   "outputs": [],
   "source": [
    "# To be implemented\n",
    "import matplotlib.pyplot as plt\n",
    "%matplotlib inline"
   ]
  },
  {
   "cell_type": "code",
   "execution_count": 61,
   "metadata": {},
   "outputs": [
    {
     "data": {
      "image/png": "[encoded data removed]",
      "text/plain": [
       "<matplotlib.figure.Figure at 0x276ce748>"
      ]
     },
     "metadata": {},
     "output_type": "display_data"
    }
   ],
   "source": [
    "pca_xrange = np.arange(20) +1\n",
    "pca_ylabel = [\"PCA %d\" % i for i in pca_xrange]\n",
    "\n",
    "plt.bar(pca_xrange, pca.explained_variance_ratio_[:20])\n",
    "xticks = plt.xticks(pca_xrange, pca_ylabel, rotation=90)\n",
    "y_label = plt.ylabel('Variance Explained Percentage')"
   ]
  },
  {
   "cell_type": "markdown",
   "metadata": {},
   "source": [
    "## Classifying positive/negative review with PCA preprocessing"
   ]
  },
  {
   "cell_type": "markdown",
   "metadata": {},
   "source": [
    "### Logistic Regression Classifier\n",
    "#### Use standardized tf-idf vectors as features"
   ]
  },
  {
   "cell_type": "code",
   "execution_count": 62,
   "metadata": {},
   "outputs": [
    {
     "data": {
      "text/plain": [
       "LogisticRegression(C=1.0, class_weight=None, dual=False, fit_intercept=True,\n",
       "          intercept_scaling=1, max_iter=100, multi_class='ovr', n_jobs=1,\n",
       "          penalty='l2', random_state=100, solver='liblinear', tol=0.0001,\n",
       "          verbose=0, warm_start=False)"
      ]
     },
     "execution_count": 62,
     "metadata": {},
     "output_type": "execute_result"
    }
   ],
   "source": [
    "# Build a Logistic Regression Classifier, train with standardized tf-idf vectors\n",
    "\n",
    "from sklearn.linear_model import LogisticRegression\n",
    "\n",
    "# To be implemented\n",
    "logistic_clf = LogisticRegression(random_state = 100)\n",
    "logistic_clf.fit(train_scaled, train_y_top)"
   ]
  },
  {
   "cell_type": "code",
   "execution_count": 63,
   "metadata": {},
   "outputs": [
    {
     "data": {
      "text/plain": [
       "1.0"
      ]
     },
     "execution_count": 63,
     "metadata": {},
     "output_type": "execute_result"
    }
   ],
   "source": [
    "# Get score for training set\n",
    "logistic_clf.score(train_scaled, train_y_top)"
   ]
  },
  {
   "cell_type": "code",
   "execution_count": 64,
   "metadata": {
    "scrolled": true
   },
   "outputs": [
    {
     "data": {
      "text/plain": [
       "0.752411575562701"
      ]
     },
     "execution_count": 64,
     "metadata": {},
     "output_type": "execute_result"
    }
   ],
   "source": [
    "# Get score for test set\n",
    "logistic_clf.score(test_scaled, test_y_top)"
   ]
  },
  {
   "cell_type": "markdown",
   "metadata": {},
   "source": [
    "#### Use (Stardardized + PCA) tf-idf vectors as features"
   ]
  },
  {
   "cell_type": "code",
   "execution_count": 65,
   "metadata": {},
   "outputs": [
    {
     "data": {
      "text/plain": [
       "LogisticRegression(C=1.0, class_weight=None, dual=False, fit_intercept=True,\n",
       "          intercept_scaling=1, max_iter=100, multi_class='ovr', n_jobs=1,\n",
       "          penalty='l2', random_state=100, solver='liblinear', tol=0.0001,\n",
       "          verbose=0, warm_start=False)"
      ]
     },
     "execution_count": 65,
     "metadata": {},
     "output_type": "execute_result"
    }
   ],
   "source": [
    "# Build a Logistic Regression Classifier, train with PCA tranformed X\n",
    "\n",
    "from sklearn.linear_model import LogisticRegression\n",
    "\n",
    "# To be implemented\n",
    "logistic_clf = LogisticRegression(random_state = 100)\n",
    "logistic_clf.fit(train_comp, train_y_top)"
   ]
  },
  {
   "cell_type": "code",
   "execution_count": 66,
   "metadata": {},
   "outputs": [
    {
     "data": {
      "text/plain": [
       "0.85359116022099446"
      ]
     },
     "execution_count": 66,
     "metadata": {},
     "output_type": "execute_result"
    }
   ],
   "source": [
    "# Get score for training set\n",
    "logistic_clf.score(train_comp, train_y_top)"
   ]
  },
  {
   "cell_type": "code",
   "execution_count": 67,
   "metadata": {},
   "outputs": [
    {
     "data": {
      "text/plain": [
       "0.80707395498392287"
      ]
     },
     "execution_count": 67,
     "metadata": {},
     "output_type": "execute_result"
    }
   ],
   "source": [
    "# Get score for test set, REMEMBER to use PCA-transformed X!\n",
    "logistic_clf.score(test_comp, test_y_top)"
   ]
  },
  {
   "cell_type": "markdown",
   "metadata": {},
   "source": [
    "#### Q: What do you see from the training score and the test score? How do you compare the results from PCA and non-PCA preprocessing?"
   ]
  },
  {
   "cell_type": "markdown",
   "metadata": {},
   "source": [
    "A: The training and test score are different after applying PCA. Before PCA, training score is much better than test score, indicating overfitting. After PCA, train score decreases; however, test score improves, indicating a better model."
   ]
  },
  {
   "cell_type": "markdown",
   "metadata": {},
   "source": [
    "#### You can plot the coefficients against principal components\n"
   ]
  },
  {
   "cell_type": "code",
   "execution_count": 68,
   "metadata": {},
   "outputs": [
    {
     "data": {
      "image/png": "[encoded data removed]",
      "text/plain": [
       "<matplotlib.figure.Figure at 0x136cdef0>"
      ]
     },
     "metadata": {},
     "output_type": "display_data"
    }
   ],
   "source": [
    "# To be implemented\n",
    "x_range = np.arange(n_components)\n",
    "y_range = logistic_clf.coef_[0]\n",
    "plt.bar(x_range, y_range)\n",
    "xticks = plt.xticks(x_range, rotation=90)\n",
    "y_label = plt.ylabel('Coefficient in Logistic Classifier')\n",
    "x_label = plt.xlabel(\"PCA\")"
   ]
  },
  {
   "cell_type": "markdown",
   "metadata": {},
   "source": [
    "### Random Forest Classifier\n",
    "#### Use standardized tf-idf vectors as features"
   ]
  },
  {
   "cell_type": "code",
   "execution_count": 69,
   "metadata": {},
   "outputs": [
    {
     "data": {
      "text/plain": [
       "RandomForestClassifier(bootstrap=True, class_weight=None, criterion='gini',\n",
       "            max_depth=None, max_features='auto', max_leaf_nodes=None,\n",
       "            min_samples_leaf=1, min_samples_split=2,\n",
       "            min_weight_fraction_leaf=0.0, n_estimators=50, n_jobs=1,\n",
       "            oob_score=False, random_state=100, verbose=0, warm_start=False)"
      ]
     },
     "execution_count": 69,
     "metadata": {},
     "output_type": "execute_result"
    }
   ],
   "source": [
    "# Build a Random Forest Classifier\n",
    "\n",
    "from sklearn.ensemble import RandomForestClassifier\n",
    "\n",
    "# To be implemented\n",
    "rf_clf = RandomForestClassifier(random_state = 100, n_estimators = 50)\n",
    "rf_clf.fit(train_scaled, train_y_top)"
   ]
  },
  {
   "cell_type": "code",
   "execution_count": 70,
   "metadata": {},
   "outputs": [
    {
     "data": {
      "text/plain": [
       "1.0"
      ]
     },
     "execution_count": 70,
     "metadata": {},
     "output_type": "execute_result"
    }
   ],
   "source": [
    "# Get score for training set\n",
    "rf_clf.score(train_scaled, train_y_top)"
   ]
  },
  {
   "cell_type": "code",
   "execution_count": 71,
   "metadata": {
    "scrolled": true
   },
   "outputs": [
    {
     "data": {
      "text/plain": [
       "0.7813504823151125"
      ]
     },
     "execution_count": 71,
     "metadata": {},
     "output_type": "execute_result"
    }
   ],
   "source": [
    "# Get score for test set\n",
    "rf_clf.score(test_scaled, test_y_top)"
   ]
  },
  {
   "cell_type": "markdown",
   "metadata": {},
   "source": [
    "#### Use (Stardardized + PCA) tf-idf vectors as features"
   ]
  },
  {
   "cell_type": "code",
   "execution_count": 72,
   "metadata": {},
   "outputs": [
    {
     "data": {
      "text/plain": [
       "RandomForestClassifier(bootstrap=True, class_weight=None, criterion='gini',\n",
       "            max_depth=None, max_features='auto', max_leaf_nodes=None,\n",
       "            min_samples_leaf=1, min_samples_split=2,\n",
       "            min_weight_fraction_leaf=0.0, n_estimators=50, n_jobs=1,\n",
       "            oob_score=False, random_state=100, verbose=0, warm_start=False)"
      ]
     },
     "execution_count": 72,
     "metadata": {},
     "output_type": "execute_result"
    }
   ],
   "source": [
    "# Build a Random Forest Classifier\n",
    "\n",
    "from sklearn.ensemble import RandomForestClassifier\n",
    "\n",
    "# To be implemented\n",
    "rf_clf = RandomForestClassifier(random_state = 100, n_estimators = 50)\n",
    "rf_clf.fit(train_comp, train_y_top)"
   ]
  },
  {
   "cell_type": "code",
   "execution_count": 73,
   "metadata": {},
   "outputs": [
    {
     "data": {
      "text/plain": [
       "1.0"
      ]
     },
     "execution_count": 73,
     "metadata": {},
     "output_type": "execute_result"
    }
   ],
   "source": [
    "# Get score for training set\n",
    "rf_clf.score(train_comp, train_y_top)"
   ]
  },
  {
   "cell_type": "code",
   "execution_count": 74,
   "metadata": {},
   "outputs": [
    {
     "data": {
      "text/plain": [
       "0.76527331189710612"
      ]
     },
     "execution_count": 74,
     "metadata": {},
     "output_type": "execute_result"
    }
   ],
   "source": [
    "# Get score for test set, REMEMBER to use PCA-transformed X!\n",
    "rf_clf.score(test_comp, test_y_top)"
   ]
  },
  {
   "cell_type": "markdown",
   "metadata": {},
   "source": [
    "#### Q: What do you see from the training result and the test result?"
   ]
  },
  {
   "cell_type": "markdown",
   "metadata": {},
   "source": [
    "A: The training and test score are not very different after applying for PCA. This means that no overfitting happens during training."
   ]
  },
  {
   "cell_type": "markdown",
   "metadata": {},
   "source": [
    "#### You can plot the feature importances against principal components\n"
   ]
  },
  {
   "cell_type": "code",
   "execution_count": 75,
   "metadata": {},
   "outputs": [
    {
     "data": {
      "image/png": "[encoded data removed]",
      "text/plain": [
       "<matplotlib.figure.Figure at 0x213aeb70>"
      ]
     },
     "metadata": {},
     "output_type": "display_data"
    }
   ],
   "source": [
    "# To be implemented\n",
    "x_range = np.arange(n_components)\n",
    "y_range = rf_clf.feature_importances_\n",
    "plt.bar(x_range, y_range)\n",
    "xticks = plt.xticks(x_range, rotation=90)\n",
    "y_label = plt.ylabel('Feature importance')\n",
    "x_label = plt.xlabel(\"PCA\")"
   ]
  },
  {
   "cell_type": "code",
   "execution_count": null,
   "metadata": {
    "collapsed": true
   },
   "outputs": [],
   "source": []
  },
  {
   "cell_type": "code",
   "execution_count": null,
   "metadata": {
    "collapsed": true
   },
   "outputs": [],
   "source": []
  },
  {
   "cell_type": "markdown",
   "metadata": {},
   "source": [
    "## Extra Credit #1: Can you cluster restaurants from their category information?\n",
    "Hint: a business may have mutiple categories, e.g. a restaurant can have both \"Restaurants\" and \"Korean\""
   ]
  },
  {
   "cell_type": "code",
   "execution_count": 81,
   "metadata": {
    "collapsed": true
   },
   "outputs": [
    {
     "data": {
      "text/plain": [
       "[Mexican, Restaurants]                                                                     1626\n",
       "[Restaurants, Mexican]                                                                     1459\n",
       "[Sushi Bars, Japanese, Restaurants]                                                        1438\n",
       "[Pizza, Restaurants]                                                                       1403\n",
       "[Korean, Japanese, Restaurants, Tapas/Small Plates, Asian Fusion, Barbeque]                1035\n",
       "[Restaurants, Burgers]                                                                      959\n",
       "[Italian, Restaurants]                                                                      952\n",
       "[Steakhouses, Restaurants]                                                                  914\n",
       "[Buffets, Sandwiches, Food, Restaurants, Breakfast & Brunch]                                774\n",
       "[Restaurants, Italian]                                                                      742\n",
       "[Restaurants, Pizza]                                                                        718\n",
       "[Restaurants, Japanese, Sushi Bars]                                                         684\n",
       "[Restaurants, Chinese]                                                                      631\n",
       "[Korean, Basque, Restaurants, Barbeque]                                                     629\n",
       "[Bars, Mexican, Nightlife, Restaurants, Lounges]                                            628\n",
       "[Buffets, Restaurants]                                                                      591\n",
       "[Chinese, Barbeque, Restaurants, Hot Pot, Do-It-Yourself Food, Mongolian, Fondue, Food]     535\n",
       "[Restaurants, Breakfast & Brunch, American (New)]                                           532\n",
       "[Thai, Restaurants]                                                                         523\n",
       "[American (Traditional), Restaurants, Burgers]                                              521\n",
       "[Restaurants, Steakhouses, French, Breakfast & Brunch]                                      513\n",
       "[Korean, Restaurants, Barbeque]                                                             479\n",
       "[Burgers, Restaurants, American (New)]                                                      475\n",
       "[Barbeque, Korean, Restaurants]                                                             466\n",
       "[Automotive, Car Dealers, Restaurants, Thai, Bars, Wine Bars, Nightlife]                    449\n",
       "[Chinese, Restaurants]                                                                      417\n",
       "[Restaurants, Southern, American (New)]                                                     409\n",
       "[Restaurants, Breakfast & Brunch, Buffets]                                                  407\n",
       "[Restaurants, Sushi Bars, Japanese]                                                         404\n",
       "[Restaurants, Sandwiches, Burgers, American (Traditional), Breakfast & Brunch]              402\n",
       "                                                                                           ... \n",
       "[Food, Restaurants, Automotive, Fast Food, Convenience Stores, Gas & Service Stations]        1\n",
       "[American (New), Shopping Centers, Shopping, Cinema, Arts & Entertainment, Restaurants]       1\n",
       "[Specialty Food, Meat Shops, Food, Restaurants, Butcher, Steakhouses]                         1\n",
       "[Salvadoran, Latin American, Restaurants, Fast Food, Mexican]                                 1\n",
       "[Latin American, Restaurants, Salvadoran]                                                     1\n",
       "[Food, Burgers, Fast Food, Restaurants]                                                       1\n",
       "[American (New), Salvadoran, Restaurants, Mexican, Latin American]                            1\n",
       "[Nightlife, American (Traditional), Restaurants]                                              1\n",
       "[Juice Bars & Smoothies, Food Court, Restaurants, Food]                                       1\n",
       "[Restaurants, Fast Food, Mexican, Burgers, Spanish]                                           1\n",
       "[Restaurants, Comfort Food]                                                                   1\n",
       "[Bars, Nightlife, Karaoke, Restaurants, American (New)]                                       1\n",
       "[Restaurants, Fast Food, Food]                                                                1\n",
       "[American (New), Restaurants, Pretzels, Bakeries, Fast Food, Food]                            1\n",
       "[Ethiopian, Restaurants, Breakfast & Brunch, African, Cafes]                                  1\n",
       "[Pasta Shops, Italian, Food, Chicken Wings, Restaurants, Pizza, Specialty Food]               1\n",
       "[American (Traditional), Cheesesteaks, Restaurants]                                           1\n",
       "[American (New), Italian, Restaurants]                                                        1\n",
       "[Chicken Wings, Barbeque, Restaurants]                                                        1\n",
       "[Japanese, Buffets, Restaurants]                                                              1\n",
       "[Italian, Desserts, Food, Gelato, Restaurants, Pizza, Arts & Entertainment]                   1\n",
       "[Restaurants, Food Trucks, Street Vendors, Latin American, Food, Gluten-Free]                 1\n",
       "[Mexican, Restaurants, Cuban]                                                                 1\n",
       "[Burgers, Mexican, Food, Restaurants, Desserts]                                               1\n",
       "[Sushi Bars, Bars, Nightlife, Lounges, Restaurants]                                           1\n",
       "[American (Traditional), Nightlife, Restaurants, Pubs, Bars]                                  1\n",
       "[Restaurants, Caterers, Food, Event Planning & Services, Hot Dogs, Food Trucks]               1\n",
       "[Fast Food, Restaurants, Convenience Stores, Burgers, Food]                                   1\n",
       "[Burgers, Restaurants, Food]                                                                  1\n",
       "[Food, Mexican, Food Trucks, Restaurants]                                                     1\n",
       "Name: categories, dtype: int64"
      ]
     },
     "execution_count": 81,
     "metadata": {},
     "output_type": "execute_result"
    }
   ],
   "source": [
    "# To be implemented\n",
    "df[\"categories\"].value_counts()"
   ]
  },
  {
   "cell_type": "markdown",
   "metadata": {},
   "source": [
    "## Extra Credit #2: Can you try different distance/similarity metrics for clusterings, e.g. Pearson correlation, Jaccard distance, etc. \n",
    "\n",
    "Hint: You can take a look at [scipy](http://docs.scipy.org/doc/scipy/reference/generated/scipy.spatial.distance.pdist.html#scipy.spatial.distance.pdist) documentations to use other distances\n",
    "\n",
    "#### Q: How do you compare with Cosine distance or Euclidean distance?"
   ]
  },
  {
   "cell_type": "code",
   "execution_count": 77,
   "metadata": {
    "collapsed": true
   },
   "outputs": [],
   "source": [
    "# To be implemented\n",
    "# write kmeans from scratch"
   ]
  },
  {
   "cell_type": "markdown",
   "metadata": {},
   "source": [
    "## Extra Credit #3: Can you cluster categories from business entities? What does it mean by a cluster?\n",
    "Hint: Think the example where words can be clustered from the transposed tf-idf matrix."
   ]
  },
  {
   "cell_type": "code",
   "execution_count": 78,
   "metadata": {
    "collapsed": true
   },
   "outputs": [],
   "source": [
    "# To be implemented"
   ]
  },
  {
   "cell_type": "markdown",
   "metadata": {},
   "source": [
    "## Extra Credit #4: What are the characteristics of each of the clustered  ? For each cluster, which restaurant can best represent (\"define\") its cluster?\n",
    "Hint: how to interpret \"best\"?"
   ]
  },
  {
   "cell_type": "code",
   "execution_count": 79,
   "metadata": {
    "collapsed": true
   },
   "outputs": [],
   "source": [
    "# To be implemented"
   ]
  },
  {
   "cell_type": "markdown",
   "metadata": {},
   "source": [
    "## Extra Credit #5: Can you think of other use cases that clustering can be used? \n",
    "Hint: of course you can make use of other yelp dataset. You can try anything you want as long as you can explain it."
   ]
  },
  {
   "cell_type": "code",
   "execution_count": 80,
   "metadata": {
    "collapsed": true
   },
   "outputs": [],
   "source": [
    "# To be implemented"
   ]
  },
  {
   "cell_type": "code",
   "execution_count": null,
   "metadata": {
    "collapsed": true
   },
   "outputs": [],
   "source": []
  }
 ],
 "metadata": {
  "anaconda-cloud": {},
  "kernelspec": {
   "display_name": "Python 2",
   "language": "python",
   "name": "python2"
  },
  "language_info": {
   "codemirror_mode": {
    "name": "ipython",
    "version": 2
   },
   "file_extension": ".py",
   "mimetype": "text/x-python",
   "name": "python",
   "nbconvert_exporter": "python",
   "pygments_lexer": "ipython2",
   "version": "2.7.13"
  }
 },
 "nbformat": 4,
 "nbformat_minor": 1
}
